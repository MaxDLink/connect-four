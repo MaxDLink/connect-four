{
  "cells": [
    {
      "cell_type": "markdown",
      "metadata": {
        "id": "oI_w999bTUdx"
      },
      "source": [
        "# Adversarial Search: Playing Connect 4\n",
        "\n",
        "Student Name: Max Link \n",
        "\n",
        "I have used the following AI tools: ChatGPT \n",
        "\n",
        "I understand that my submission needs to be my own work: ML \n",
        "\n",
        "## Instructions\n",
        "\n",
        "Total Points: Undegraduates 100, graduate students 110\n",
        "\n",
        "Complete this notebook and submit it. The notebook needs to be a complete project report with your implementation, documentation including a short discussion of how your implementation works and your design choices, and experimental results (e.g., tables and charts with simulation results) with a short discussion of what they mean. Use the provided notebook cells and insert additional code and markdown cells as needed.\n",
        "\n",
        "## Introduction\n",
        "\n",
        "You will implement different versions of agents that play Connect 4:\n",
        "\n",
        "> \"Connect 4 is a two-player connection board game, in which the players choose a color and then take turns dropping colored discs into a seven-column, six-row vertically suspended grid. The pieces fall straight down, occupying the lowest available space within the column. The objective of the game is to be the first to form a horizontal, vertical, or diagonal line of four of one's own discs.\" (see [Connect Four on Wikipedia](https://en.wikipedia.org/wiki/Connect_Four))\n",
        "\n",
        "Note that [Connect-4 has been solved](https://en.wikipedia.org/wiki/Connect_Four#Mathematical_solution)\n",
        "in 1988. A connect-4 solver with a discussion of how to solve different parts of the problem can be found here: https://connect4.gamesolver.org/en/"
      ]
    },
    {
      "cell_type": "markdown",
      "metadata": {
        "id": "usywJR0TTUdz"
      },
      "source": [
        "## Task 1: Defining the Search Problem [10 point]\n",
        "\n",
        "Define the components of the search problem:\n",
        "\n",
        "* Initial state\n",
        "* Actions\n",
        "* Transition model (result function)\n",
        "* Goal state (terminal state and utility)"
      ]
    },
    {
      "cell_type": "markdown",
      "metadata": {},
      "source": [
        "## Definitions: \n",
        "\n",
        "**Initial State:** The initial state is an empty board, with no discs in play. This means that all seven columns are empty. \n",
        "\n",
        "**Actions:** The player can drop a disc (red or yellow depending on their side) into one of seven columns. \n",
        "\n",
        "**Transition model:** Once a player drops a disc in a row, the board changes to accomodate that disc. This means that the transition model is a changing of column state from empty to filled. Blocking the other player can be considered here. \n",
        "\n",
        "**Goal State:** Once one side (either red or yellow) create a horizontal, vertical, or diagonal line of four discs, the game is over. "
      ]
    },
    {
      "cell_type": "markdown",
      "metadata": {},
      "source": [
        "**How big is the state space? Give an estimate and explain it.**\n",
        "\n",
        "The state space is seven columns by six rows of available options. The columns can be represented by c and the rows can be represented by r. This means that the state space is c x r big. We know that every board spot can be either: \n",
        "\n",
        "1. empty \n",
        "2. filled with red's piece \n",
        "3. filled with yellow's piece \n",
        "\n",
        "This gives us: c x r = 7 x 6 = 42 and each of the 3 states can take on one of these 42 possibilities. \n",
        "\n",
        "So the state space size is roughly 3^42.  "
      ]
    },
    {
      "cell_type": "markdown",
      "metadata": {
        "id": "4uUtFXBiTUd0"
      },
      "source": [
        "**How big is the game tree that minimax search will go through? Give an estimate and explain it.**"
      ]
    },
    {
      "cell_type": "markdown",
      "metadata": {},
      "source": [
        "The game tree represents all possible sequences of moves starting from the initial board state to all possible game endings. This tree houses the different board configurations (states) and also houses the different paths to get to these states (seq. of moves), so the size of this tree can be significantly larger than the state space size. \n",
        "\n",
        "Terminology: Branching factor is the average number of moves available from any given board state. Varies depending on the amount of empty columns. At the start there are 7 possible  moves because there are 7 possible columns, but the branching factor decreases as the columns are filled up. Depth of the tree is the average number of moves in a typical game. Connect 4 games rarely use all 42 spots because games usually end when one player gets four in a row. Common averages are 20-30 moves before ending. Lets assume depth is 20 for our problem. \n",
        "\n",
        "The game tree that minimax search will go through is roughly 4^20. To get this number, we raised the average branching factor to the power of the depth. This assumes that the average branching factor over the course of the game is about 4, as the game progresses and fewer columns are available to play. This also assumes that the average game length (depth of the tree) is about 20 moves. "
      ]
    },
    {
      "cell_type": "markdown",
      "metadata": {
        "id": "6Bp9wmjITUd1"
      },
      "source": [
        "## Task 2: Game Environment and Random Agent [25 point]\n",
        "\n",
        "Use a numpy character array as the board."
      ]
    },
    {
      "cell_type": "code",
      "execution_count": 623,
      "metadata": {
        "id": "9AdTOz6YTUd1",
        "outputId": "d401aa30-92ae-4913-b7dc-4f1771090030"
      },
      "outputs": [
        {
          "name": "stdout",
          "output_type": "stream",
          "text": [
            "[[0 0 0 0 0 0 0]\n",
            " [0 0 0 0 0 0 0]\n",
            " [0 0 0 0 0 0 0]\n",
            " [0 0 0 0 0 0 0]\n",
            " [0 0 0 0 0 0 0]\n",
            " [0 0 0 0 0 0 0]]\n"
          ]
        }
      ],
      "source": [
        "# import numpy for array manipulation \n",
        "import numpy as np\n",
        "\n",
        "# this function creates an empty board \n",
        "# the empty board has a shape parameter, which is x, y \n",
        "# x here is 6, representing the 6 columns \n",
        "# y here is 7, representing the 7 columns \n",
        "def empty_board(shape=(6, 7)):\n",
        "    # np.full creates a multidimensional array \n",
        "    # this multidimensional array is 6x7, meaning it has 6 row and 7 columns \n",
        "    # every value in each row is filled with a zero with the fill_value=0 parameter \n",
        "    return np.full(shape=shape, fill_value=0)\n",
        "\n",
        "# display the empty board with a print statement below \n",
        "print(empty_board())"
      ]
    },
    {
      "cell_type": "markdown",
      "metadata": {
        "id": "iEx7K8-FTUd2"
      },
      "source": [
        "The standard board is $6 \\times 7$ but you can use smaller boards to test your code. Instead of colors (red and yellow), I use 1 and -1 to represent the players. Make sure that your agent functions all have the from: `agent_type(board, player = 1)`, where board is the current board position (in the format above) and player is the player whose next move it is and who the agent should play (as 1 and -1)."
      ]
    },
    {
      "cell_type": "code",
      "execution_count": 624,
      "metadata": {
        "id": "xgpaoQZmTUd2",
        "outputId": "e31379b3-45bf-44aa-cb82-997dfd7bfc5b",
        "tags": []
      },
      "outputs": [
        {
          "data": {
            "image/png": "[encoded data removed]",
            "text/plain": [
              "<Figure size 640x480 with 1 Axes>"
            ]
          },
          "metadata": {},
          "output_type": "display_data"
        }
      ],
      "source": [
        "# Visualization code by Randolph Rankin\n",
        "# -1 is yellow \n",
        "# 1 is red \n",
        "\n",
        "import matplotlib.pyplot as plt\n",
        "\n",
        "def visualize(board):\n",
        "    plt.axes()\n",
        "    rectangle=plt.Rectangle((-0.5,len(board)*-1+0.5),len(board[0]),len(board),fc='blue')\n",
        "    circles=[]\n",
        "    for i,row in enumerate(board):\n",
        "        for j,val in enumerate(row):\n",
        "            color='white' if val==0 else 'red' if val==1 else 'yellow'\n",
        "            circles.append(plt.Circle((j,i*-1),0.4,fc=color))\n",
        "\n",
        "    plt.gca().add_patch(rectangle)\n",
        "    for circle in circles:\n",
        "        plt.gca().add_patch(circle)\n",
        "\n",
        "    plt.axis('scaled')\n",
        "    plt.show()\n",
        "\n",
        "board = [[0, 0, 0, 0, 0, 0, 0],\n",
        "         [0, 0, 0, 0, 0, 0, 0],\n",
        "         [0, 0, 0, 0, 0, 0, 0],\n",
        "         [0, 0, 0, 1, 0, 0, 0],\n",
        "         [0, 0, 0, 1, 0, 0, 0],\n",
        "         [0,-1,-1, 1,-1, 0, 0]]\n",
        "visualize(board)"
      ]
    },
    {
      "cell_type": "code",
      "execution_count": 625,
      "metadata": {},
      "outputs": [
        {
          "data": {
            "image/png": "[encoded data removed]",
            "text/plain": [
              "<Figure size 640x480 with 1 Axes>"
            ]
          },
          "metadata": {},
          "output_type": "display_data"
        }
      ],
      "source": [
        "# custom visualization function for numpy arrays \n",
        "\n",
        "import matplotlib.pyplot as plt\n",
        "\n",
        "def visualize_numpy(board):\n",
        "    plt.axes()\n",
        "    rectangle = plt.Rectangle((-0.5, len(board) * -1 + 0.5), len(board[0]), len(board), fc='blue')\n",
        "    circles = []\n",
        "    for i in range(board.shape[0]):  # using shape to iterate over numpy array\n",
        "        for j in range(board.shape[1]):\n",
        "            val = board[i, j]  # accessing the element directly as a scalar\n",
        "            color = 'white' if val == 0 else 'red' if val == 1 else 'yellow' if val == -1 else 'black'  # Added black for unexpected values\n",
        "            circles.append(plt.Circle((j, i * -1), 0.4, fc=color))\n",
        "\n",
        "    plt.gca().add_patch(rectangle)\n",
        "    for circle in circles:\n",
        "        plt.gca().add_patch(circle)\n",
        "\n",
        "    plt.axis('scaled')\n",
        "    plt.show()\n",
        "\n",
        "# example usage with a numpy array\n",
        "board = np.array([\n",
        "    [0, 0, 0, 0, 0, 0, 0],\n",
        "    [0, 0, 0, 0, 0, 0, 0],\n",
        "    [0, 0, 0, 0, 0, 0, 0],\n",
        "    [0, 0, 0, 1, 0, 0, 0],\n",
        "    [0, 0, 0, 1, 0, 0, 0],\n",
        "    [0, -1, -1, 1, -1, 0, 0]\n",
        "])\n",
        "visualize(board)"
      ]
    },
    {
      "cell_type": "markdown",
      "metadata": {
        "id": "w2jdemzmTUd2",
        "tags": []
      },
      "source": [
        "Implement helper functions for:\n",
        "\n",
        "* A check for available actions in each state `actions(s)`.\n",
        "* The transition model `result(s, a)`.\n",
        "* Check for terminal states `terminal(s)`.\n",
        "* The utility function `utility(s)`.\n",
        "\n",
        "Make sure that all these functions work with boards of different sizes (number of columns and rows)."
      ]
    },
    {
      "cell_type": "code",
      "execution_count": 626,
      "metadata": {
        "id": "d4uVwXhSTUd2"
      },
      "outputs": [],
      "source": [
        "# 4x4 board test \n",
        "# empty board \n",
        "board = [[0, 0, 0, 0], \n",
        "         [0, 0, 0, 0], \n",
        "         [0, 0, 0, 0], \n",
        "         [0, 0, 0, 0]]"
      ]
    },
    {
      "cell_type": "code",
      "execution_count": 627,
      "metadata": {},
      "outputs": [
        {
          "data": {
            "image/png": "[encoded data removed]",
            "text/plain": [
              "<Figure size 640x480 with 1 Axes>"
            ]
          },
          "metadata": {},
          "output_type": "display_data"
        }
      ],
      "source": [
        "# visualize empty board \n",
        "visualize(board)"
      ]
    },
    {
      "cell_type": "code",
      "execution_count": 628,
      "metadata": {},
      "outputs": [],
      "source": [
        "# filled 4x4 board \n",
        "filled_4 = [[0, 1, 0, -1], \n",
        "         [-1, 1, 0, 0], \n",
        "         [-1, 1, 0, 0], \n",
        "         [-1, 1, 0, 0]]"
      ]
    },
    {
      "cell_type": "code",
      "execution_count": 629,
      "metadata": {},
      "outputs": [
        {
          "data": {
            "image/png": "[encoded data removed]",
            "text/plain": [
              "<Figure size 640x480 with 1 Axes>"
            ]
          },
          "metadata": {},
          "output_type": "display_data"
        }
      ],
      "source": [
        "# visualize filled 4x4 \n",
        "visualize(filled_4)"
      ]
    },
    {
      "cell_type": "markdown",
      "metadata": {
        "id": "qZEeG452TUd3"
      },
      "source": [
        "Implement an agent that plays randomly. Make sure the agent function receives as the percept the board and returns a valid action. Use an agent function definition with the following signature (arguments):\n",
        "\n",
        "`def random_player(board, player = 1): ...`\n",
        "\n",
        "The argument `player` is used for agents that do not store what color they are playing. The value passed on by the environment should be 1 ot -1 for player red and yellow, respectively.  See [Experiments section for tic-tac-toe](https://nbviewer.org/github/mhahsler/CS7320-AI/blob/master/Games/tictactoe_and_or_tree_search.ipynb#Experiments) for an example."
      ]
    },
    {
      "cell_type": "code",
      "execution_count": 630,
      "metadata": {},
      "outputs": [],
      "source": [
        "# for board array manipulation \n",
        "import numpy as np \n",
        "\n",
        "# import sys for sys.exit \n",
        "import sys"
      ]
    },
    {
      "cell_type": "code",
      "execution_count": 631,
      "metadata": {},
      "outputs": [],
      "source": [
        "# function to check for win conditions - 4 in row, 4 in column, 4 in diagonal \n",
        "\n",
        "# function to check for columns: \n",
        "def col_checker(board): \n",
        "    # initialize state to 0 because the game by default is not won \n",
        "    state = 0 \n",
        "    # the way the player won made global \n",
        "    # move = \"\"\n",
        "    player_won = 0 # no one has won \n",
        "    # get the length of the board\n",
        "    # for 4x4 should be 4 becauase len takes the vertical length \n",
        "    n = len(board)\n",
        "    # empty list for holding found column   \n",
        "    column = [] \n",
        "    # generate comparison array of 1's \n",
        "    # dynamic array allocation with n \n",
        "    # win state changes based on player \n",
        "    # n is the amount of columns, filling each column with only a single 1 to make a 1 row \n",
        "    # np.ones makes a matrix by default so index at 0 to just get one array for our comparison  \n",
        "    win_state1 = np.ones((1, n), dtype = int) \n",
        "    # negative win state\n",
        "    # np.full makes a matrix by default so we must index at 0 to just get one array for our comparison \n",
        "    win_state2 = np.full((1, n), -1) \n",
        "    # check every row of the board \n",
        "    # iterate through all columns \n",
        "    for n in range(n): \n",
        "        column += [board[:, n]]\n",
        "        # use list comprehension to flatten into a list \n",
        "        flat_list = [item for sublist in column for item in sublist]\n",
        "        # convert flat_list from a list to a numpy array for comparison against win_state1 and win_state2 \n",
        "        flat_array = np.array(flat_list) \n",
        "        # print(\"flat list: \", flat_array)\n",
        "        # print(\"win state1: \", win_state1)\n",
        "\n",
        "        # use np.array_equal to compare arrays\n",
        "        if(np.array_equal(flat_array, win_state1[0]) or np.array_equal(flat_array, win_state2[0])): \n",
        "                # print(\"entered if!\") \n",
        "                state = 1  \n",
        "                # who won? \n",
        "                if(np.array_equal(flat_array, win_state1[0])): \n",
        "                     player_won = 1 \n",
        "                else: \n",
        "                     player_won = -1 \n",
        "                # # the way the player won \n",
        "                # move = \"four down\"\n",
        "        # erase column for next loop through \n",
        "        column = []\n",
        "            \n",
        "    return state, player_won "
      ]
    },
    {
      "cell_type": "code",
      "execution_count": 632,
      "metadata": {},
      "outputs": [],
      "source": [
        "# function to check for rows: \n",
        "def row_checker(board):\n",
        "\n",
        "    # real logic \n",
        "    # initialize state to 0 because the game by default is not won \n",
        "    state = 0 \n",
        "    # get the length of the board\n",
        "    # for 4x4 should be 4 becauase len takes the vertical length \n",
        "    n = len(board)\n",
        "    # the way the player won made global \n",
        "    # move = \"\"\n",
        "    # no one has won \n",
        "    player_won = 0 \n",
        "    \n",
        "    # get the shape of board \n",
        "    # r is the length of the rows on the board \n",
        "    r = board.shape[1]\n",
        "    # print('r:', r) \n",
        "    # generate comparison array of 1's \n",
        "    # r is for dynamic array of 1 allocation based on board size \n",
        "    # r is the amount of columns, filling them with 1's\n",
        "    # np.ones defaults to making a matrix, so to get a single array we will have to index 0 \n",
        "    win_state1 = np.ones((1, r), dtype = int)\n",
        "    # negative win state \n",
        "    # np.full for general fill \n",
        "    # np.full defaults to making a matrix, so to get a single array we will have to index 0 \n",
        "    win_state2 = np.full((1, r), -1) \n",
        "    # print(\"win_state:\", win_state) \n",
        "    # check every row of the board \n",
        "    # 0-3 range for row \n",
        "    for row in range(n): \n",
        "        # print(\"this is the row being compared: \\n\", board[row])\n",
        "        # print(\"win state:\\n \", win_state1[0])\n",
        "        # if the game is won, set state to 1 \n",
        "        # compare using np.array_equal to compare each element of the arrays to each other \n",
        "        # if they are equal enter the if statement \n",
        "        # this may not be okay to compare arrays directly. \n",
        "        # if state is not one \n",
        "        if(np.array_equal(board[row], win_state1[0]) or np.array_equal(board[row], win_state2[0]) and state != 1):\n",
        "            # print(\"state updated!\") \n",
        "            state = 1 \n",
        "            if(np.array_equal(board[row], win_state1[0])): \n",
        "                player_won = 1 \n",
        "            else: \n",
        "                player_won = -1\n",
        "            # the way the player won \n",
        "            # move = \"four across\"\n",
        "            # print(\"State: \", state) \n",
        "\n",
        "    return state, player_won \n"
      ]
    },
    {
      "cell_type": "code",
      "execution_count": 633,
      "metadata": {},
      "outputs": [],
      "source": [
        "def diagonal_check(board, player):\n",
        "    # print(\"the board for this comparison is: \\n\", board) \n",
        "    # move for user understanding \n",
        "    # move = \"diagonal\"\n",
        "    player_won = 0 # no one has won \n",
        "    # extract the diagonal using np built in diagonal function \n",
        "    main_diagonal = np.diagonal(board)\n",
        "    \n",
        "    # get the antidiagonal \n",
        "    # flips the array horizontally with a left right flip \n",
        "    anti_diagonal = np.diagonal(np.fliplr(board))\n",
        "    \n",
        "    # check if the main diagonal is all positive ones \n",
        "    if np.all(main_diagonal == 1): \n",
        "        # print(\"the main diagonal contains ones!\")\n",
        "        state = 1 \n",
        "        player_won = 1\n",
        "        return state, player_won\n",
        "    # main diagonals that contain only -1's  \n",
        "    elif np.all(main_diagonal == -1): \n",
        "        state = 1 \n",
        "        player_won = -1\n",
        "        return state, player_won\n",
        "    # check if the anti_diagonal is all positive ones \n",
        "    # np.all compares to a certain condition of 1 or -1 \n",
        "    elif np.all(anti_diagonal == 1): \n",
        "        # print(\"the anti_diagonal contains ones!\")\n",
        "        state = 1 \n",
        "        player_won = 1\n",
        "        return state, player_won \n",
        "    # anti-diagonals that contain only -1 \n",
        "    elif np.all(anti_diagonal == -1): \n",
        "        state = 1 \n",
        "        player_won = -1\n",
        "        return state, player_won\n",
        "    # no diagonals found \n",
        "    else: \n",
        "        # print(\"no diagonals found\")\n",
        "        state = 0 \n",
        "        return state, player_won "
      ]
    },
    {
      "cell_type": "code",
      "execution_count": 634,
      "metadata": {},
      "outputs": [],
      "source": [
        "# draw check \n",
        "def draw_check(board, player): \n",
        "    move = \"draw\"\n",
        "    state = 0 \n",
        "    \n",
        "    # check if np array is completely full, if so set terminal state to 1\n",
        "    # np.all takes the numpy array & checks that every element in it does not equal 0 \n",
        "    # since this is our last board state check out of all four win conditions, then we just have to make sure the board is full of non-zero elements \n",
        "    if(np.all(board != 0)): \n",
        "       state = 1 \n",
        "    \n",
        "    # return the state and the move \n",
        "    return state, move "
      ]
    },
    {
      "cell_type": "code",
      "execution_count": 635,
      "metadata": {},
      "outputs": [],
      "source": [
        "# state_check function for main state check flow \n",
        "\n",
        "def state_check(board, player): \n",
        "    # assign player name to player number \n",
        "    if player == 1: \n",
        "        player = \"red\"\n",
        "    else: \n",
        "        player = \"yellow\"\n",
        "    # starting values for terminal condition \n",
        "    # start as 0 because no one has won the game yet \n",
        "    # 1 when game won: either 4 in a row, 4 in a column, or 4 diagonally  \n",
        "    terminal_state = 0 \n",
        "    # the state the players win by \n",
        "    state = \" \"\n",
        "    # print(\"State:\" , state) \n",
        "    # check if the game is won \n",
        "    # analyze all rows for four 1 or -1 \n",
        "    # analyze all columns for four 1 or -1 \n",
        "    # how do we do diagonals? start on a row and move in until you find 1 or -1\n",
        "    # finding 1 or -1 determines which should be checked, then go to the next row \n",
        "    # on the next row, go one further than you went on the first row.... repeat until 4 hit\n",
        "    # check rows - works  \n",
        "    terminal_state, state = row_checker(board) \n",
        "    \n",
        "    # if win condition met \n",
        "    if(terminal_state == 1): \n",
        "        # print(player, \" won via \", state, \"! Ending game.\")\n",
        "        return terminal_state\n",
        "    \n",
        "    # check columns \n",
        "    terminal_state, state = col_checker(board)\n",
        "    \n",
        "    # if win condition met \n",
        "    if(terminal_state == 1): \n",
        "        # print(player, \" won via \", state, \"! Ending game.\")\n",
        "        return terminal_state\n",
        "    \n",
        "    # check diagonal \n",
        "    terminal_state, state = diagonal_check(board, player) \n",
        "    \n",
        "    # if win condition met \n",
        "    if(terminal_state == 1): \n",
        "        # print(player, \" won via \", state, \"! Ending game.\")\n",
        "        return terminal_state\n",
        "    \n",
        "    # draw state \n",
        "    terminal_state, state = draw_check(board, player)\n",
        "    \n",
        "    # if win condition met \n",
        "    if(terminal_state == 1): \n",
        "        # print(\"Draw. Ending game.\")\n",
        "        return terminal_state\n",
        "    # if none of the conditions are met then return \n",
        "    return terminal_state\n"
      ]
    },
    {
      "cell_type": "code",
      "execution_count": 636,
      "metadata": {},
      "outputs": [],
      "source": [
        "# np test board \n",
        "np_b = np.zeros((4, 4), dtype = int)  "
      ]
    },
    {
      "cell_type": "code",
      "execution_count": 637,
      "metadata": {},
      "outputs": [],
      "source": [
        "# function for placing a piece \n",
        "def place_piece(board, player): \n",
        "    # bare bones placement code \n",
        "    length = len(board)\n",
        "\n",
        "    # define column to search through here \n",
        "    # col can range from 0 - 3 \n",
        "    col = np.random.randint(0, length)\n",
        "\n",
        "    # set to 3 to start from bottom & subtract to go up a column \n",
        "    row = 3\n",
        "\n",
        "    # add one to column_selected to have the first column identify as 1, second as 2, 3rd as 3 etc. \n",
        "    # print(\"initiaitng count for the entire \", column_selected + 1, \" column\")\n",
        "    for r in range(length): \n",
        "        # print(\"row is: \", row)\n",
        "        # test with random column instead of fixing at 1 \n",
        "        # col = 1 \n",
        "        # count conditional incremented here after checking if there is a 1 or -1 already placed & finding an empty spot \n",
        "        if board[row][col] == 1 or board[row][col] == -1: \n",
        "            # print(\"a 1 has been found in col \", col + 1)\n",
        "            # one_count += 1 \n",
        "            # decrement row to go up the row to find an empty spot \n",
        "            row -= 1 \n",
        "            # print(\"row decremented: \", row)\n",
        "            # row starts as 3 & should only decrement as low as zero \n",
        "            # if row gets to -1 then that means that an entire column is full \n",
        "            # in this case, the place_piece() function should be recursively called to run again \n",
        "            if(row == -1): \n",
        "                # print(\"going over column! Go to a diff column!\")\n",
        "                place_piece(board, player) \n",
        "        # else, found a zero\n",
        "        # if you have found a zero then just place a 1 or -1 \n",
        "        else: \n",
        "            # player will either be 1 or -1 depending on who is playing \n",
        "            # this can be used as the piece placement \n",
        "            board[row][col] = player \n",
        "            # as soon as place, then exit \n",
        "            break\n",
        "    # returns modified board \n",
        "    return board"
      ]
    },
    {
      "cell_type": "code",
      "execution_count": 638,
      "metadata": {
        "id": "ustbynVvTUd3"
      },
      "outputs": [],
      "source": [
        "# in a traditional game of connect 4, red goes first \n",
        "# player has default value 1, signifying red \n",
        "# yellow is -1 value for player\n",
        "# player set to 1 by default so that red can go first \n",
        "# pass a running row variable to simulate gravity \n",
        "def random_player(board, player = 1): \n",
        "    # print(\"randomly playing!\")\n",
        "    \n",
        "    # make a copy of board \n",
        "    new_board = board.copy() \n",
        "\n",
        "    # code \n",
        "    if player == 1: \n",
        "        # print(\"Red's turn\") \n",
        "        updated_board = place_piece(board, player)\n",
        "        # new_board[row][col] = 1      \n",
        "        new_board = updated_board\n",
        "    else: \n",
        "        # print(\"Yellow's turn\")\n",
        "        updated_board = place_piece(board, player)\n",
        "        new_board = updated_board\n",
        "    # return the randomly updated board & the player \n",
        "    return new_board, player "
      ]
    },
    {
      "cell_type": "code",
      "execution_count": 639,
      "metadata": {},
      "outputs": [],
      "source": [
        "# make the 4x4 board of zeros with numpy array -- visualization function had to be customized to display numpy arrays but easier \n",
        "\n",
        "# 4 rows & 4 columns \n",
        "# initialized as np array so that the .shape check and other mechanics will work in the state_check() function \n",
        "board = np.zeros((4, 4), dtype = int)  \n",
        "\n",
        "# visualize_numpy(board)\n"
      ]
    },
    {
      "cell_type": "code",
      "execution_count": 640,
      "metadata": {},
      "outputs": [],
      "source": [
        "# basic game flow \n",
        "\n",
        "# win condition for exiting loop \n",
        "terminal_state = 0 \n",
        "\n",
        "# while loop - game logic \n",
        "while True:\n",
        "    # red goes first \n",
        "    # player is red by default in random_player, so do not pass anything in for player \n",
        "    board, player = random_player(board)\n",
        "    \n",
        "    # print(board)\n",
        "    \n",
        "    # check state - state_check will end the game if a disc is in four adjacent spots \n",
        "    # pass in the player for this check to know if you need to check for 1 or -1 \n",
        "    terminal_state = state_check(board, player)\n",
        "    \n",
        "    # break out if win_state met \n",
        "    if(terminal_state == 1): \n",
        "        break; \n",
        "\n",
        "    # yellow goes second \n",
        "    yellow = -1 \n",
        "    board, player = random_player(board, yellow)\n",
        "    \n",
        "    # print(board)\n",
        "\n",
        "    # check state - state_check will end the game if a disc is in four adjacent spots \n",
        "    # pass player for this check like above \n",
        "    terminal_state = state_check(board, player) \n",
        "    \n",
        "    # break out if win_state met  \n",
        "    if(terminal_state == 1): \n",
        "        break; \n",
        "    \n",
        "    # increment count \n",
        "    # count+=1\n",
        "    \n",
        "    \n",
        "# print(\"new board\\n\", board)"
      ]
    },
    {
      "cell_type": "code",
      "execution_count": 641,
      "metadata": {},
      "outputs": [
        {
          "data": {
            "text/plain": [
              "array([[ 0, -1,  1,  1],\n",
              "       [ 1,  1,  1,  1],\n",
              "       [ 1,  1,  1,  1],\n",
              "       [ 1,  1,  1,  1]])"
            ]
          },
          "execution_count": 641,
          "metadata": {},
          "output_type": "execute_result"
        }
      ],
      "source": [
        "# ------ TESTING FOR OVERLAPPING PLACEMENT OF PIECES ------# \n",
        "player = -1 \n",
        "\n",
        "# make a board of all red and try to place a yellow \n",
        "placement_test = np.ones((4, 4), dtype = int)  \n",
        "\n",
        "# only one empty spot \n",
        "placement_test[0][0] = 0 \n",
        "placement_test[0][1] = 0\n",
        "\n",
        "# now the place function should never go to position 3, 3\n",
        "place_piece(placement_test, player)\n",
        "\n",
        "# visualize_numpy(placement_test)"
      ]
    },
    {
      "cell_type": "markdown",
      "metadata": {
        "id": "8BNbHhj-TUd3"
      },
      "source": [
        "Let two random agents play against each other 1000 times. Look at the [Experiments section for tic-tac-toe](https://nbviewer.org/github/mhahsler/CS7320-AI/blob/master/Games/tictactoe_and_or_tree_search.ipynb#Experiments) to see how the environment uses the agent functions to play against each other.\n",
        "\n",
        "How often does each player win? Is the result expected?"
      ]
    },
    {
      "cell_type": "code",
      "execution_count": 642,
      "metadata": {},
      "outputs": [],
      "source": [
        "# initialize play_board \n",
        "play_board = np.zeros((4, 4), dtype = int)"
      ]
    },
    {
      "cell_type": "code",
      "execution_count": 643,
      "metadata": {
        "id": "RLo4DNe0TUd3",
        "tags": []
      },
      "outputs": [],
      "source": [
        "def switch_player(player): \n",
        "    # if the player is red, switch to yellow \n",
        "    if player == 1: \n",
        "        # switch \n",
        "        player = -1\n",
        "        # return yellow  \n",
        "        return player \n",
        "    else: \n",
        "        # switch to red \n",
        "        player = 1 \n",
        "        # return red \n",
        "        return player \n",
        "    "
      ]
    },
    {
      "cell_type": "code",
      "execution_count": 644,
      "metadata": {},
      "outputs": [],
      "source": [
        "# red and yellow play against each other 25 times \n",
        "def play(N = 1000):  \n",
        "    # integers to understand how often each player wins \n",
        "    win_yellow = 0\n",
        "    win_red = 0\n",
        "    \n",
        "    # loop through the amount of times you can play \n",
        "    for _ in range(N): \n",
        "        # i is zero indexed so start at 1 for easy round logging \n",
        "        # print(\"round: \", i+1)\n",
        "        # initialize an empty board 4x4 \n",
        "        play_board = np.zeros((4, 4), dtype=int)\n",
        "        # player starts as red \n",
        "        player = 1 \n",
        "        \n",
        "        while True: \n",
        "            # play_board gets updated because red plays\n",
        "            play_board, player = random_player(play_board, player)\n",
        "            # visualize board after each play \n",
        "            # visualize_numpy(play_board)\n",
        "            # check if they win \n",
        "            # returns state = 0 if game is not done \n",
        "            win = state_check(play_board, player) \n",
        "            # print(\"win:\", win)\n",
        "            # if win does not equal zero then the game is won!\n",
        "            if win != 0: \n",
        "                if player == 1: \n",
        "                    win_red += 1 \n",
        "                else: \n",
        "                    win_yellow += 1 \n",
        "                # print(\"round\", i+1, \" won!\")\n",
        "                # exit loop because game is over \n",
        "                break \n",
        "            # if game is not won, then switch player \n",
        "            player = switch_player(player)\n",
        "    # return the win amounts for each player \n",
        "    return win_red, win_yellow\n",
        "            "
      ]
    },
    {
      "cell_type": "code",
      "execution_count": 645,
      "metadata": {},
      "outputs": [],
      "source": [
        "# play the game \n",
        "# TODO - able to play with 1000 rounds but double check that the board is not placing pieces in already taken spots \n",
        "win_red, win_yellow = play() "
      ]
    },
    {
      "cell_type": "code",
      "execution_count": 646,
      "metadata": {},
      "outputs": [
        {
          "name": "stdout",
          "output_type": "stream",
          "text": [
            "Red won:  292\n",
            "Yellow won:  708\n"
          ]
        }
      ],
      "source": [
        "# calculate probabilities \n",
        "# TODO - do these prob. make sense? Something is broken because yellow is way too high? \n",
        "print(\"Red won: \", win_red)\n",
        "\n",
        "print(\"Yellow won: \", win_yellow)"
      ]
    },
    {
      "cell_type": "markdown",
      "metadata": {},
      "source": [
        "Yellow has a higher win rate and this is not expected.... may be a bug with the code? "
      ]
    },
    {
      "cell_type": "markdown",
      "metadata": {
        "id": "wlxXLmRDTUd3"
      },
      "source": [
        "## Task 3: Minimax Search with Alpha-Beta Pruning\n",
        "\n",
        "### Implement the Search [20 points]\n",
        "\n",
        "Implement minimax search starting from a given board for specifying the player.\n",
        "You can use code from the [tic-tac-toe example](https://nbviewer.org/github/mhahsler/CS7320-AI/blob/master/Games/tictactoe_alpha_beta_tree_search.ipynb).\n",
        "\n",
        "__Important Notes:__\n",
        "* Make sure that all your agent functions have a signature consistent with the random agent above and that it [uses a class to store state information.](https://nbviewer.org/github/mhahsler/CS7320-AI/blob/master/HOWTOs/store_agent_state_information.ipynb)\n",
        "This is essential to be able play against agents from other students later.\n",
        "* The search space for a $6 \\times 7$ board is large. You can experiment with smaller boards (the smallest is $4 \\times 4$) and/or changing the winning rule to connect 3 instead of 4."
      ]
    },
    {
      "cell_type": "code",
      "execution_count": 647,
      "metadata": {},
      "outputs": [],
      "source": [
        "# def loss_check(terminal_state, player, board): \n",
        "#     # was the game won? \n",
        "#     if(terminal_state == 1): \n",
        "#         # who lost? \n",
        "#         if(player == 1): # yellow lost \n",
        "            "
      ]
    },
    {
      "cell_type": "code",
      "execution_count": 648,
      "metadata": {},
      "outputs": [],
      "source": [
        "# def check_rows(board):\n",
        "#     for row in board:\n",
        "#         for i in range(len(row) - 3):  # Subtract 3 to prevent out of bounds error\n",
        "#             segment = row[i:i+4]\n",
        "#             if abs(sum(segment)) == 4:  # Check if the sum of four elements is exactly 4 or -4\n",
        "#                 player_won = segment[0]  # Determine which player has the four in a row\n",
        "#                 print(f\"Win detected for player: {player_won}\")\n",
        "#                 return 1, player_won\n",
        "#     return 0, None\n"
      ]
    },
    {
      "cell_type": "code",
      "execution_count": 649,
      "metadata": {},
      "outputs": [],
      "source": [
        "# # rework state_check() to return a -1 for loss state \n",
        "# # handle draw state automatically in evaluate function \n",
        "\n",
        "# # state_check function for main state check flow \n",
        "# # TODO - terminal state does not get set to 1 or -1 for loss.... never entering if statements... add new row checks, column checks, and diagonal checks to fix this.... \n",
        "# def state_check(board, player): \n",
        "#     # assign player name to player number \n",
        "#     if player == 1: \n",
        "#         player = \"red\"\n",
        "#     else: \n",
        "#         player = \"yellow\"\n",
        "#     # starting values for terminal condition \n",
        "#     # start as 0 because no one has won the game yet \n",
        "#     # 1 when game won: either 4 in a row, 4 in a column, or 4 diagonally  \n",
        "#     terminal_state = 0 \n",
        "#     # the state the players win by \n",
        "#     state = \" \"\n",
        "#     # print(\"State:\" , state) \n",
        "#     # check if the game is won \n",
        "#     # analyze all rows for four 1 or -1 \n",
        "#     # analyze all columns for four 1 or -1 \n",
        "#     # how do we do diagonals? start on a row and move in until you find 1 or -1\n",
        "#     # finding 1 or -1 determines which should be checked, then go to the next row \n",
        "#     # on the next row, go one further than you went on the first row.... repeat until 4 hit\n",
        "#     # check rows - works  \n",
        "#     # terminal_state, player_won = row_checker(board) \n",
        "#     terminal_state, player_won = check_rows(board)\n",
        "    \n",
        "#     # if win condition met \n",
        "#     if(terminal_state == 1): \n",
        "#         print(\"ENTER CHECK\") \n",
        "#         print(\"PLAYER: \", player)\n",
        "#         print(\"Player that won: \", player_won)\n",
        "#         # print(player, \" won via \", state, \"! Ending game.\")\n",
        "#         if(player != player_won): \n",
        "#             print(\"player lost\")\n",
        "#             # did the current player win? \n",
        "#             terminal_state = -1 \n",
        "#             return terminal_state \n",
        "#         return terminal_state\n",
        "    \n",
        "#     # check columns \n",
        "#     terminal_state, player_won = col_checker(board)\n",
        "    \n",
        "#      # if win condition met \n",
        "#     if(terminal_state == 1): \n",
        "#         print(\"ENTER CHECK\") \n",
        "#         print(\"PLAYER: \", player)\n",
        "#         print(\"Player that won: \", player_won)\n",
        "\n",
        "#         # print(player, \" won via \", state, \"! Ending game.\")\n",
        "#         if(player != player_won): \n",
        "#             print(\"player lost\")\n",
        "#             # did the current player win? \n",
        "#             terminal_state = -1 \n",
        "#             return terminal_state \n",
        "#         return terminal_state\n",
        "    \n",
        "#     # check diagonal \n",
        "#     terminal_state, player_won = diagonal_check(board, player) \n",
        "    \n",
        "#      # if win condition met \n",
        "#     if(terminal_state == 1): \n",
        "#         print(\"ENTER CHECK\") \n",
        "#         print(\"PLAYER: \", player)\n",
        "#         print(\"Player that won: \", player_won)\n",
        "    \n",
        "#         # print(player, \" won via \", state, \"! Ending game.\")\n",
        "#         if(player != player_won): \n",
        "#             print(\"player lost\")\n",
        "#             # did the current player win? \n",
        "#             terminal_state = -1 \n",
        "#             return terminal_state \n",
        "#         return terminal_state\n",
        "    \n",
        "#     # loss state -- takes terminal_state & player to know which player won and which player lost \n",
        "#     # board for testing \n",
        "#     # terminal_state = loss_check(terminal_state, player, board)\n",
        "#     # print(\"BEFORE TERM. COND ENTERED\")\n",
        "#     # if win condition met \n",
        "#     if(terminal_state == 1): \n",
        "#         print(\"ENTER CHECK\") \n",
        "#         print(\"PLAYER: \", player)\n",
        "#         print(\"Player that won: \", player_won)\n",
        "        \n",
        "#         # print(player, \" won via \", state, \"! Ending game.\")\n",
        "#         if(player != player_won): \n",
        "#             print(\"player lost\")\n",
        "#             # did the current player win? \n",
        "#             terminal_state = -1 \n",
        "#             return terminal_state \n",
        "#         return terminal_state\n",
        "    \n",
        "#     # if none of the conditions are met then return \n",
        "#     return terminal_state\n"
      ]
    },
    {
      "cell_type": "code",
      "execution_count": 650,
      "metadata": {},
      "outputs": [],
      "source": [
        "## ------ OLD STATE CHECK ABOVE ----- ## "
      ]
    },
    {
      "cell_type": "code",
      "execution_count": 651,
      "metadata": {},
      "outputs": [],
      "source": [
        "# check rows function \n",
        "def check_rows(board):\n",
        "    # Assuming player 1 is '1' and player -1 is '-1'\n",
        "    for row in board:\n",
        "        for i in range(len(row) - 3):\n",
        "            if abs(row[i] + row[i+1] + row[i+2] + row[i+3]) == 4:\n",
        "                # Return the sign of the sum to indicate which player won\n",
        "                return 1, np.sign(row[i])\n",
        "    return 0, None\n"
      ]
    },
    {
      "cell_type": "code",
      "execution_count": 652,
      "metadata": {},
      "outputs": [],
      "source": [
        "# check column function \n",
        "def check_columns(board):\n",
        "    # Assuming player 1 is '1' and player -1 is '-1'\n",
        "    for row in board:\n",
        "        for i in range(len(row) - 3):\n",
        "            if abs(row[i] + row[i+1] + row[i+2] + row[i+3]) == 4:\n",
        "                # Return the sign of the sum to indicate which player won\n",
        "                return 1, np.sign(row[i])\n",
        "    # transpose to use the same logic as rows, cleaner code \n",
        "    return check_rows(board.T)\n"
      ]
    },
    {
      "cell_type": "code",
      "execution_count": 653,
      "metadata": {},
      "outputs": [],
      "source": [
        "# check diagonals function \n",
        "def check_diagonals(board):\n",
        "    for d in range(-board.shape[0] + 1, board.shape[1]):\n",
        "        diag = np.diagonal(board, offset=d)\n",
        "        for i in range(len(diag) - 3):\n",
        "            if abs(diag[i] + diag[i+1] + diag[i+2] + diag[i+3]) == 4:\n",
        "                return 1, np.sign(diag[i])\n",
        "        anti_diag = np.diagonal(np.fliplr(board), offset=d)\n",
        "        for i in range(len(anti_diag) - 3):\n",
        "            if abs(anti_diag[i] + anti_diag[i+1] + anti_diag[i+2] + anti_diag[i+3]) == 4:\n",
        "                return 1, np.sign(anti_diag[i])\n",
        "    return 0, None\n"
      ]
    },
    {
      "cell_type": "code",
      "execution_count": 654,
      "metadata": {},
      "outputs": [],
      "source": [
        "# simpler state check function \n",
        "def state_check(board, current_player):\n",
        "    # Check rows, columns, and diagonals for a win\n",
        "    for check in (check_rows, check_columns, check_diagonals):\n",
        "        terminal_state, player_won = check(board)\n",
        "        if terminal_state == 1: # there is a win detected\n",
        "            # If there's a win, check if the winner is the current player\n",
        "            if player_won == current_player:\n",
        "                return 1  # Current player won\n",
        "            else:\n",
        "                return -1  # Current player lost (opponent won)\n",
        "    return 0  # No win or loss detected, for draw \n"
      ]
    },
    {
      "cell_type": "code",
      "execution_count": 655,
      "metadata": {},
      "outputs": [],
      "source": [
        "def place_piece(board, player, col):\n",
        "    # Create a copy of the board to avoid altering the original during recursion\n",
        "    new_board = board.copy()\n",
        "    for row in range(len(board) - 1, -1, -1):  # Start from the bottom row and move upwards\n",
        "        if new_board[row][col] == 0:\n",
        "            new_board[row][col] = player  # Place the player's piece in the first empty spot\n",
        "            break\n",
        "    return new_board\n"
      ]
    },
    {
      "cell_type": "code",
      "execution_count": 656,
      "metadata": {},
      "outputs": [],
      "source": [
        "# function to enhance evaluate() \n",
        "# assists in strategic decision making \n",
        "def check_potential_lines(board, row, col, player):\n",
        "    directions = [(0, 1), (1, 0), (1, 1), (-1, 1)]  # Right, Down, Diagonal Down Right, Diagonal Up Right\n",
        "    line_potential = 0\n",
        "\n",
        "    for dr, dc in directions:\n",
        "        count = 0\n",
        "        for i in range(1, 4):\n",
        "            nr, nc = row + dr*i, col + dc*i\n",
        "            if 0 <= nr < board.shape[0] and 0 <= nc < board.shape[1]:\n",
        "                if board[nr][nc] == player:\n",
        "                    count += 1\n",
        "                elif board[nr][nc] != 0:\n",
        "                    count = 0  # Break on encountering opponent's piece\n",
        "                    break\n",
        "            else:\n",
        "                break\n",
        "        line_potential += count\n",
        "\n",
        "    return line_potential\n"
      ]
    },
    {
      "cell_type": "code",
      "execution_count": 657,
      "metadata": {},
      "outputs": [],
      "source": [
        "# dumb evaluate \n",
        "# def evaluate(board, player, terminal_state):\n",
        "#     \"\"\"\n",
        "#     Evaluate the board strictly based on terminal state:\n",
        "#     - +1000 for a win,\n",
        "#     - -1000 for a loss,\n",
        "#     - 0 for a draw or non-terminal states.\n",
        "#     \"\"\"\n",
        "#     # print(\"TERMINAL STATE IN EVAL: \", terminal_state)\n",
        "#     if terminal_state == 1:  # A win detected\n",
        "#         # Check if the last move was by the player\n",
        "#         return 1000 if player == 1 else -1000\n",
        "#     elif terminal_state == -1:  # A loss detected\n",
        "#         # Check if the last move was not by the player\n",
        "#         print(\"ran terminal -1\")\n",
        "#         return -1000 if player == 1 else 1000\n",
        "#     else:\n",
        "#         # It's either a draw or the game is still ongoing\n",
        "#         return 0\n",
        "\n",
        "# # Note: This assumes your state_check function sets terminal_state to 1 for a win and -1 for a loss\n",
        "# # and properly handles the setting of these values based on the last move made.\n"
      ]
    },
    {
      "cell_type": "code",
      "execution_count": 658,
      "metadata": {},
      "outputs": [],
      "source": [
        "# check win condition for threat detection function one cell below \n",
        "def check_win(board, player, row, col):\n",
        "    # Check if placing a piece here results in a win\n",
        "    directions = [(0, 1), (1, 0), (1, 1), (1, -1)]\n",
        "    for dr, dc in directions:\n",
        "        count = 1\n",
        "        for i in range(1, 4):\n",
        "            nr, nc = row + dr*i, col + dc*i\n",
        "            if 0 <= nr < board.shape[0] and 0 <= nc < board.shape[1] and board[nr][nc] == player:\n",
        "                count += 1\n",
        "            else:\n",
        "                break\n",
        "        if count >= 4:\n",
        "            return True\n",
        "    return False"
      ]
    },
    {
      "cell_type": "code",
      "execution_count": 659,
      "metadata": {},
      "outputs": [],
      "source": [
        "# threat detection \n",
        "def count_threats(board, player):\n",
        "    threats = 0\n",
        "    opponent = -1 if player == 1 else 1\n",
        "    # Check all rows, columns, and diagonals\n",
        "    for r in range(board.shape[0]):\n",
        "        for c in range(board.shape[1]):\n",
        "            if board[r][c] == 0:\n",
        "                # Temporarily place the player's piece\n",
        "                board[r][c] = player\n",
        "                if check_win(board, player, r, c):\n",
        "                    threats += 1\n",
        "                # Reset after check\n",
        "                board[r][c] = 0\n",
        "\n",
        "                # Check opponent's threats by temporarily placing their piece\n",
        "                board[r][c] = opponent\n",
        "                if check_win(board, opponent, r, c):\n",
        "                    threats -= 1\n",
        "                board[r][c] = 0\n",
        "\n",
        "    return threats"
      ]
    },
    {
      "cell_type": "code",
      "execution_count": 660,
      "metadata": {},
      "outputs": [],
      "source": [
        "# smart evaluate \n",
        "# added a small amount of randomness so that each round does not end up the same \n",
        "import random\n",
        "\n",
        "def evaluate(board, player, terminal_state):\n",
        "    if terminal_state == 1:\n",
        "        return 1000 if player == 1 else -1000\n",
        "    elif terminal_state == -1:\n",
        "        return -1000 if player == 1 else 1000\n",
        "    elif terminal_state == 2:\n",
        "        return 0  # Draw scenario\n",
        "\n",
        "    score = 0\n",
        "    score += count_threats(board, player) * 10\n",
        "\n",
        "    for r in range(board.shape[0]):\n",
        "        for c in range(board.shape[1]):\n",
        "            if board[r][c] == player:\n",
        "                if c == board.shape[1] // 2:\n",
        "                    score += 3\n",
        "                score += check_potential_lines(board, r, c, player)\n",
        "    \n",
        "    # Add a small random component\n",
        "    score += random.uniform(-0.5, 0.5)  # Very small random value to mix things up\n",
        "    return score\n",
        "\n"
      ]
    },
    {
      "cell_type": "code",
      "execution_count": 662,
      "metadata": {},
      "outputs": [],
      "source": [
        "# specific version \n",
        "def get_possible_moves(board, player):\n",
        "    moves = []\n",
        "    # print(\"Current board state before making moves:\")\n",
        "    # for row in board:\n",
        "    #     print(' '.join(map(str, row)))\n",
        "\n",
        "    for col in range(len(board[0])):\n",
        "        # Ensure to check from the top of the column down to find the first non-full position\n",
        "        full = True\n",
        "        for row in range(len(board)):\n",
        "            if board[row][col] == 0:\n",
        "                full = False\n",
        "                break\n",
        "        if not full:\n",
        "            # print(f\"Column {col} is not full, attempting to place a piece...\")\n",
        "            new_board = place_piece(board, player, col)\n",
        "            moves.append((new_board, col))\n",
        "            # print(f\"Valid move at column {col}. Board state after placing the piece:\")\n",
        "            # for row in new_board:\n",
        "            #     print(' '.join(map(str, row)))\n",
        "        # else:\n",
        "            # print(f\"Column {col} is full, skipping...\")\n",
        "    # print(f\"Total moves available: {len(moves)}\")\n",
        "    return moves\n"
      ]
    },
    {
      "cell_type": "code",
      "execution_count": 663,
      "metadata": {
        "id": "aPc9UOdhTUd3"
      },
      "outputs": [],
      "source": [
        "# minimax uses get_possible_moves(). modular design. \n",
        "def minimax(board, depth, alpha, beta, player):\n",
        "    # gets board, gets player \n",
        "    # looks for win or loss state \n",
        "    # board must be a numpy array here or else the state_check function will not return the right terminal state \n",
        "    # print(\"Board state passed to state_check:\")\n",
        "    # print(board)\n",
        "\n",
        "    terminal_state = state_check(board, player)\n",
        "    # print(\"TERM STATE MINIMAX: \", terminal_state)\n",
        "    if terminal_state != 0 or depth == 0:\n",
        "        return evaluate(board, player, terminal_state)\n",
        "    \n",
        "    if player == 1:  # Maximizing for Red\n",
        "        # print(\"Maximizing for player Red\")\n",
        "        maxEval = float('-inf')\n",
        "        # print(\"possible moves: \\n\", get_possible_moves(board, player))\n",
        "        for new_board, _ in get_possible_moves(board, player):\n",
        "            # print(\"THE NEW BOARD IS: \\n\")\n",
        "            # print(new_board)\n",
        "            eval = minimax(new_board, depth - 1, alpha, beta, -1)\n",
        "            maxEval = max(maxEval, eval)\n",
        "            alpha = max(alpha, eval)\n",
        "            # print(\"Beta: \", beta)\n",
        "            # print(\"Alpha: \", alpha)\n",
        "            if beta <= alpha:\n",
        "                break\n",
        "        # print(\"maxEval:\", maxEval)\n",
        "        return maxEval\n",
        "    else:  # Minimizing for Yellow\n",
        "        minEval = float('inf')\n",
        "        # print(get_possible_moves(board, player))\n",
        "        for new_board, _ in get_possible_moves(board, player):\n",
        "            eval = minimax(new_board, depth - 1, alpha, beta, 1)\n",
        "            minEval = min(minEval, eval)\n",
        "            beta = min(beta, eval)\n",
        "            # print(\"Beta: \", beta)\n",
        "            # print(\"Alpha: \", alpha)\n",
        "            if beta <= alpha:\n",
        "                break\n",
        "        # print(\"minEval:\", minEval)\n",
        "        return minEval\n",
        "\n"
      ]
    },
    {
      "cell_type": "code",
      "execution_count": 664,
      "metadata": {},
      "outputs": [],
      "source": [
        "# calls minimax function to kick off minimax search \n",
        "def best_move(board, player, depth=4):\n",
        "    best_score = float('-inf') if player == 1 else float('inf')\n",
        "    best_col = -1  # If no move is found, this will signal no available moves\n",
        "    # print(\"Calculating best move...\")\n",
        "\n",
        "    for new_board, col in get_possible_moves(board, player):\n",
        "        score = minimax(new_board, depth - 1, float('-inf'), float('inf'), -player)\n",
        "        # print(f\"Score for column {col}: {score}\")\n",
        "        # print(\"SCORE: \", score)\n",
        "        if (player == 1 and score > best_score) or (player == -1 and score < best_score):\n",
        "            best_score = score\n",
        "            best_col = col\n",
        "    # print(f\"Best move is in column {best_col} with score {best_score}\")\n",
        "    return best_col\n"
      ]
    },
    {
      "cell_type": "code",
      "execution_count": 665,
      "metadata": {},
      "outputs": [],
      "source": [
        "# updated to use best_move() \n",
        "def play(N=1): # 1000 was original round count. trying with 1 round for debugging board update behavior. \n",
        "    win_yellow = 0\n",
        "    win_red = 0\n",
        "    \n",
        "    for _ in range(N):\n",
        "        play_board = np.zeros((4, 4), dtype=int)\n",
        "        player = 1  # Start with Red\n",
        "\n",
        "        while True:\n",
        "            move = best_move(play_board, player, depth=4)\n",
        "            # print(\"MOVE:\", move)\n",
        "            if move == -1:\n",
        "                # print(\"Draw or no valid moves\")\n",
        "                break  # Break out of the loop if no moves are possible\n",
        "            # visualize_numpy(play_board)\n",
        "            # print('---Board before update----')\n",
        "            # print(play_board)\n",
        "            # update the current board \n",
        "            play_board = place_piece(play_board, player, move)\n",
        "            # print('----UPDATED-----')\n",
        "            # print(play_board)\n",
        "\n",
        "            win = state_check(play_board, player)\n",
        "            if win == 1:\n",
        "                if player == 1:\n",
        "                    win_red += 1\n",
        "                else:\n",
        "                    win_yellow += 1\n",
        "                break\n",
        "            player = switch_player(player)\n",
        "        \n",
        "    # visualize_numpy(play_board)\n",
        "    return win_red, win_yellow\n"
      ]
    },
    {
      "cell_type": "code",
      "execution_count": 666,
      "metadata": {},
      "outputs": [],
      "source": [
        "# test array\n",
        "def draw_board(): \n",
        "    test_board = np.ones((4, 4), dtype=int)\n",
        "\n",
        "    test_board[0][0] = 0\n",
        "    test_board[0][1] = 0\n",
        "    test_board[0][2] = -1\n",
        "    test_board[1][0] = -1\n",
        "    test_board[2][0] = -1\n",
        "    test_board[3][0] = -1\n",
        "    test_board[0][3] = -1\n",
        "    test_board[3][0] = 1\n",
        "    test_board[3][1] = -1\n",
        "    test_board[3][3] = -1\n",
        "\n",
        "\n",
        "\n",
        "    # print(test_board)\n",
        "    return test_board \n"
      ]
    },
    {
      "cell_type": "code",
      "execution_count": 667,
      "metadata": {},
      "outputs": [],
      "source": [
        "def yellow_win_board(): \n",
        "    test_board = np.ones((4, 4), dtype=int)\n",
        "\n",
        "    test_board[0][0] = 0\n",
        "    test_board[0][1] = 0\n",
        "    test_board[0][2] = 1\n",
        "    test_board[1][0] = -1\n",
        "    test_board[2][0] = -1\n",
        "    test_board[3][0] = -1\n",
        "    test_board[0][3] = -1\n",
        "    test_board[3][0] = -1\n",
        "    test_board[3][1] = -1\n",
        "    test_board[3][3] = -1\n",
        "    test_board[2][2] = -1\n",
        "\n",
        "\n",
        "\n",
        "    # print(test_board)\n",
        "    return test_board "
      ]
    },
    {
      "cell_type": "code",
      "execution_count": 668,
      "metadata": {},
      "outputs": [],
      "source": [
        "def red_win_board(): \n",
        "    test_board = np.ones((4, 4), dtype=int)\n",
        "\n",
        "    test_board[0][0] = 0\n",
        "    test_board[0][1] = 0\n",
        "    test_board[0][2] = -1\n",
        "    test_board[1][0] = -1\n",
        "    test_board[2][0] = -1\n",
        "    test_board[3][0] = -1\n",
        "    test_board[0][3] = -1\n",
        "    test_board[3][0] = -1\n",
        "    test_board[3][1] = -1\n",
        "    test_board[3][3] = 1\n",
        "\n",
        "\n",
        "\n",
        "    # print(test_board)\n",
        "    return test_board "
      ]
    },
    {
      "cell_type": "code",
      "execution_count": 669,
      "metadata": {},
      "outputs": [],
      "source": [
        "# updated to use best_move() \n",
        "def play_test(input_board, N=1000): # 1000 was original round count. trying with 1 round for debugging board update behavior. \n",
        "    win_yellow = 0\n",
        "    win_red = 0\n",
        "    \n",
        "    for i in range(N):\n",
        "        # print(\"round \", i+1)\n",
        "        # play_board = np.zeros((4, 4), dtype=int)\n",
        "        # create test board \n",
        "        # input_board is the starting template for each round \n",
        "        test_board = input_board\n",
        "        # test_board = draw_board() \n",
        "\n",
        "        # test_board[0][0] = 0\n",
        "        # test_board[0][1] = 0\n",
        "        # test_board[0][2] = -1\n",
        "        # test_board[1][0] = -1\n",
        "        # test_board[2][0] = -1\n",
        "        # test_board[3][0] = -1\n",
        "        # test_board[0][3] = -1\n",
        "        # test_board[3][0] = 1\n",
        "        # test_board[3][1] = -1\n",
        "        # test_board[3][3] = -1\n",
        "\n",
        "        player = 1  # Start with Red\n",
        "\n",
        "        while True:\n",
        "            # print(\"player is: \", player)\n",
        "            move = best_move(test_board, player, depth=4)\n",
        "            # print(\"MOVE:\", move)\n",
        "            if move == -1:\n",
        "                # print(\"Draw or no valid moves\")\n",
        "                break  # Break out of the loop if no moves are possible\n",
        "            # visualize_numpy(play_board)\n",
        "            # print('---Board before update----')\n",
        "            # print(test_board)\n",
        "            # update the current board \n",
        "            test_board = place_piece(test_board, player, move)\n",
        "            # print('----UPDATED-----')\n",
        "            # print(test_board)\n",
        "            # visualize_numpy(test_board)\n",
        "\n",
        "            win = state_check(test_board, player)\n",
        "            if win == 1:\n",
        "                if player == 1:\n",
        "                    win_red += 1\n",
        "                else:\n",
        "                    win_yellow += 1\n",
        "                break\n",
        "            player = switch_player(player)\n",
        "            # print(\"switched player. Player is: \", player)\n",
        "        \n",
        "\n",
        "    return win_red, win_yellow\n"
      ]
    },
    {
      "cell_type": "code",
      "execution_count": 670,
      "metadata": {},
      "outputs": [],
      "source": [
        "# create board to test with \n",
        "input_board = np.zeros((4, 4), dtype=int)\n",
        "\n",
        "# print(input_board)"
      ]
    },
    {
      "cell_type": "code",
      "execution_count": 671,
      "metadata": {},
      "outputs": [],
      "source": [
        "# play with minimax search \n",
        "win_red, win_yellow = play_test(input_board) "
      ]
    },
    {
      "cell_type": "code",
      "execution_count": 672,
      "metadata": {},
      "outputs": [
        {
          "name": "stdout",
          "output_type": "stream",
          "text": [
            "Red won:  29\n",
            "Yellow won:  119\n"
          ]
        }
      ],
      "source": [
        "print(\"Red won: \", win_red)\n",
        "\n",
        "print(\"Yellow won: \", win_yellow)"
      ]
    },
    {
      "cell_type": "code",
      "execution_count": 673,
      "metadata": {},
      "outputs": [],
      "source": [
        "# experiment with 4x4 board \n",
        "# ensure that class info state information is stored so that the program can play against other players "
      ]
    },
    {
      "cell_type": "markdown",
      "metadata": {
        "id": "ldUc1ymlTUd3"
      },
      "source": [
        "Experiment with some manually created boards (at least 5) to check if the agent spots winning opportunities."
      ]
    },
    {
      "cell_type": "code",
      "execution_count": 735,
      "metadata": {},
      "outputs": [],
      "source": [
        "# test array\n",
        "def empty_diagonal(): \n",
        "    test_board = np.ones((4, 4), dtype=int)\n",
        "    test_board[0][0] = 0\n",
        "    test_board[0][1] = 0\n",
        "    test_board[1][1] = 0\n",
        "    test_board[2][2] = 0\n",
        "    test_board[3][3] = 0\n",
        "    test_board[0][2] = 0\n",
        "    test_board[1][2] = 0\n",
        "    test_board[0][3] = 0\n",
        "    test_board[1][0] = -1\n",
        "    test_board[2][0] = -1\n",
        "    test_board[3][0] = -1\n",
        "    test_board[3][0] = 1\n",
        "    test_board[3][1] = -1\n",
        "    test_board[1][3] = 0\n",
        "    test_board[2][3] = 0 \n",
        "\n",
        "\n",
        "    return test_board "
      ]
    },
    {
      "cell_type": "code",
      "execution_count": 739,
      "metadata": {},
      "outputs": [],
      "source": [
        "# test array\n",
        "def empty_top_row(): \n",
        "    test_board = np.ones((4, 4), dtype=int)\n",
        "    \n",
        "    test_board[0][0] = 0\n",
        "    test_board[0][1] = 0\n",
        "    test_board[0][2] = 0 \n",
        "    test_board[0][3] = 0\n",
        "    test_board[1][0] = -1\n",
        "    test_board[2][0] = -1\n",
        "    test_board[3][0] = -1\n",
        "    test_board[3][0] = -1\n",
        "    test_board[3][1] = -1\n",
        "    test_board[3][3] = 1\n",
        "\n",
        "\n",
        "\n",
        "    # print(test_board)\n",
        "    return test_board "
      ]
    },
    {
      "cell_type": "code",
      "execution_count": 676,
      "metadata": {},
      "outputs": [],
      "source": [
        "# test array\n",
        "def draw_board(): \n",
        "    test_board = np.ones((4, 4), dtype=int)\n",
        "\n",
        "    test_board[0][0] = 0\n",
        "    test_board[0][1] = 0\n",
        "    test_board[0][2] = -1\n",
        "    test_board[1][0] = -1\n",
        "    test_board[2][0] = -1\n",
        "    test_board[3][0] = -1\n",
        "    test_board[0][3] = -1\n",
        "    test_board[3][0] = 1\n",
        "    test_board[3][1] = -1\n",
        "    test_board[3][3] = -1\n",
        "\n",
        "\n",
        "\n",
        "    # print(test_board)\n",
        "    return test_board "
      ]
    },
    {
      "cell_type": "code",
      "execution_count": 677,
      "metadata": {
        "id": "QPhzl34KTUd3"
      },
      "outputs": [
        {
          "name": "stdout",
          "output_type": "stream",
          "text": [
            "Red won:  0\n",
            "Yellow won:  0\n"
          ]
        }
      ],
      "source": [
        "# draw board \n",
        "input_board = draw_board() \n",
        "\n",
        "# one round testing draw condition \n",
        "win_red, win_yellow = play_test(input_board, N = 1) \n",
        "\n",
        "print(\"Red won: \", win_red)\n",
        "\n",
        "print(\"Yellow won: \", win_yellow)\n"
      ]
    },
    {
      "cell_type": "code",
      "execution_count": 743,
      "metadata": {},
      "outputs": [
        {
          "name": "stdout",
          "output_type": "stream",
          "text": [
            "Red won:  0\n",
            "Yellow won:  1\n"
          ]
        }
      ],
      "source": [
        "# yellow win board \n",
        "input_board = yellow_win_board() \n",
        "\n",
        "\n",
        "# one round testing yellow win condition \n",
        "win_red, win_yellow = play_test(input_board, N = 1) \n",
        "\n",
        "\n",
        "print(\"Red won: \", win_red)\n",
        "\n",
        "print(\"Yellow won: \", win_yellow)"
      ]
    },
    {
      "cell_type": "code",
      "execution_count": 679,
      "metadata": {},
      "outputs": [
        {
          "name": "stdout",
          "output_type": "stream",
          "text": [
            "Red won:  1\n",
            "Yellow won:  0\n"
          ]
        }
      ],
      "source": [
        "# red win board \n",
        "input_board = red_win_board() \n",
        "\n",
        "# one round testing red win condition \n",
        "win_red, win_yellow = play_test(input_board, N = 1) \n",
        "\n",
        "print(\"Red won: \", win_red)\n",
        "\n",
        "print(\"Yellow won: \", win_yellow)"
      ]
    },
    {
      "cell_type": "code",
      "execution_count": 741,
      "metadata": {},
      "outputs": [
        {
          "name": "stdout",
          "output_type": "stream",
          "text": [
            "Red won:  0\n",
            "Yellow won:  0\n"
          ]
        }
      ],
      "source": [
        "# board with an empty diagonal \n",
        "input_board = empty_diagonal() \n",
        "\n",
        "# one round testing red pre-win before game start \n",
        "win_red, win_yellow = play_test(input_board, N = 1) \n",
        "\n",
        "print(\"Red won: \", win_red)\n",
        "\n",
        "print(\"Yellow won: \", win_yellow)"
      ]
    },
    {
      "cell_type": "code",
      "execution_count": 740,
      "metadata": {},
      "outputs": [
        {
          "name": "stdout",
          "output_type": "stream",
          "text": [
            "Red won:  1\n",
            "Yellow won:  0\n"
          ]
        }
      ],
      "source": [
        "# board with an empty top row \n",
        "input_board = empty_top_row() \n",
        "\n",
        "# one round testing yellow pre-win before game start \n",
        "win_red, win_yellow = play_test(input_board, N = 1) \n",
        "\n",
        "print(\"Red won: \", win_red)\n",
        "\n",
        "print(\"Yellow won: \", win_yellow)\n"
      ]
    },
    {
      "cell_type": "markdown",
      "metadata": {
        "id": "m5CoPCYtTUd3"
      },
      "source": [
        "How long does it take to make a move? Start with a smaller board with 4 columns and make the board larger by adding columns."
      ]
    },
    {
      "cell_type": "code",
      "execution_count": 754,
      "metadata": {},
      "outputs": [],
      "source": [
        "# timing added to play_test() \n",
        "import time \n",
        "# updated to use best_move() \n",
        "def play_test_timed(input_board, N=1000): # 1000 was original round count. trying with 1 round for debugging board update behavior. \n",
        "    win_yellow = 0\n",
        "    win_red = 0\n",
        "\n",
        "    # holds the times for the average \n",
        "    times = []\n",
        "\n",
        "    # holds the average time across both players \n",
        "    average_time = 0 \n",
        "\n",
        "    # for timing a single move \n",
        "    best_move_time = 0 \n",
        "    place_piece_time = 0 \n",
        "    \n",
        "    for i in range(N):\n",
        "        # print(\"round \", i+1)\n",
        "        # play_board = np.zeros((4, 4), dtype=int)\n",
        "        # create test board \n",
        "        # input_board is the starting template for each round \n",
        "        test_board = input_board\n",
        "\n",
        "        player = 1  # Start with Red\n",
        "\n",
        "        while True:\n",
        "            # print(\"player is: \", player)\n",
        "            start_time = time.time() # start the timer \n",
        "            move = best_move(test_board, player, depth=4)\n",
        "            best_move_time = time.time() - start_time \n",
        "            times.append(best_move_time)\n",
        "\n",
        "            # print(\"MOVE:\", move)\n",
        "            if move == -1:\n",
        "                # print(\"Draw or no valid moves\")\n",
        "                # print(\"time for evaluating that no moves were possible: \", formatted_time)\n",
        "                break  # Break out of the loop if no moves are possible\n",
        "            # visualize_numpy(play_board)\n",
        "            # print('---Board before update----')\n",
        "            # print(test_board)\n",
        "            # update the current board \n",
        "            # time.time() outputs seconds \n",
        "            start_time = time.time() \n",
        "            test_board = place_piece(test_board, player, move) \n",
        "            place_piece_time = time.time() - start_time\n",
        "            total_time = place_piece_time + best_move_time \n",
        "            times.append(total_time)\n",
        "            # print(\"time for evaluating moves + placing piece: \", formatted_time)\n",
        "\n",
        "            # print('----UPDATED-----')\n",
        "            # print(test_board)\n",
        "            # visualize_numpy(test_board)\n",
        "\n",
        "            win = state_check(test_board, player)\n",
        "            if win == 1:\n",
        "                if player == 1:\n",
        "                    win_red += 1\n",
        "                else:\n",
        "                    win_yellow += 1\n",
        "                break\n",
        "            player = switch_player(player)\n",
        "            # print(\"switched player. Player is: \", player)\n",
        "        \n",
        "    # calculate average time \n",
        "    average_time = sum(times)/len(times)\n",
        "\n",
        "    return win_red, win_yellow, average_time \n"
      ]
    },
    {
      "cell_type": "code",
      "execution_count": 756,
      "metadata": {},
      "outputs": [
        {
          "name": "stdout",
          "output_type": "stream",
          "text": [
            "The average time for a single move is:  0.009370614211637896\n"
          ]
        }
      ],
      "source": [
        "# 4 column test\n",
        "\n",
        "input_board = np.zeros((4, 4), dtype=int)\n",
        "\n",
        "# 25 rounds for our average sample size \n",
        "_, _, average_time = play_test_timed(input_board, N = 25)\n",
        "\n",
        "print(\"The average time for a single move is: \", average_time)\n"
      ]
    },
    {
      "cell_type": "code",
      "execution_count": 757,
      "metadata": {
        "id": "yMRQGsy0TUd3"
      },
      "outputs": [
        {
          "name": "stdout",
          "output_type": "stream",
          "text": [
            "The average time for a single move is:  0.5551796927737261\n"
          ]
        }
      ],
      "source": [
        "# 10 column test \n",
        "\n",
        "input_board = np.zeros((4, 10), dtype=int)\n",
        "\n",
        "# 25 rounds for our average sample size \n",
        "_, _, average_time = play_test_timed(input_board, N = 25)\n",
        "\n",
        "print(\"The average time for a single move is: \", average_time)"
      ]
    },
    {
      "cell_type": "markdown",
      "metadata": {},
      "source": [
        "As the times show, adding more columns to the board exponentially increases the time it takes to place a piece on the board. For 25 rounds with 4 columns, it takes on average 0.00937 seconds. When 25 rounds are tested with 10 columns, it takes on average 0.555 seconds. "
      ]
    },
    {
      "cell_type": "markdown",
      "metadata": {
        "id": "BelSSM9kTUd4"
      },
      "source": [
        "### Move ordering [5 points]\n",
        "\n",
        "Starting the search with better moves will increase the efficiency of alpha-beta pruning. Describe and implement a simple move ordering strategy. Make a table that shows how the ordering strategies influence the time it takes to make a move?"
      ]
    },
    {
      "cell_type": "markdown",
      "metadata": {},
      "source": [
        "## move order explanation\n",
        "\n",
        "we can enhance our move strategy by modifying our get_possible_moves function. In our original, we do not prioritize the center of the board & just generate possible moves. In our new get_possible_moves, we can prioritize the center of the board while also only generating moves of strategic importance to avoid sorting columns. By avoiding sorting, we are saving computational time. \n",
        "\n",
        "The enhanced get_possible_moves function is way faster than the original get_possible_moves function. \n",
        "\n",
        "[REFINE EXPLANATION]"
      ]
    },
    {
      "cell_type": "code",
      "execution_count": 786,
      "metadata": {},
      "outputs": [],
      "source": [
        "# original get_possible_moves function for a base test \n",
        "\n",
        "# specific version \n",
        "def get_possible_moves(board, player):\n",
        "    moves = []\n",
        "    # print(\"Current board state before making moves:\")\n",
        "    # for row in board:\n",
        "    #     print(' '.join(map(str, row)))\n",
        "\n",
        "    for col in range(len(board[0])):\n",
        "        # Ensure to check from the top of the column down to find the first non-full position\n",
        "        full = True\n",
        "        for row in range(len(board)):\n",
        "            if board[row][col] == 0:\n",
        "                full = False\n",
        "                break\n",
        "        if not full:\n",
        "            # print(f\"Column {col} is not full, attempting to place a piece...\")\n",
        "            new_board = place_piece(board, player, col)\n",
        "            moves.append((new_board, col))\n",
        "            # print(f\"Valid move at column {col}. Board state after placing the piece:\")\n",
        "            # for row in new_board:\n",
        "            #     print(' '.join(map(str, row)))\n",
        "        # else:\n",
        "            # print(f\"Column {col} is full, skipping...\")\n",
        "    # print(f\"Total moves available: {len(moves)}\")\n",
        "    return moves\n"
      ]
    },
    {
      "cell_type": "code",
      "execution_count": 787,
      "metadata": {},
      "outputs": [
        {
          "name": "stdout",
          "output_type": "stream",
          "text": [
            "Testing without enhanced move ordering...\n"
          ]
        }
      ],
      "source": [
        "print(\"Testing without enhanced move ordering...\")\n",
        "\n",
        "# 4x4 board for easy testing \n",
        "# 4 depth \n",
        "input_board = np.zeros((4, 4), dtype=int)\n",
        "\n",
        "_, _, avg_time_base = play_test_timed(input_board)"
      ]
    },
    {
      "cell_type": "code",
      "execution_count": 789,
      "metadata": {},
      "outputs": [
        {
          "name": "stdout",
          "output_type": "stream",
          "text": [
            "Average base time:  0.009195165827306976\n"
          ]
        }
      ],
      "source": [
        "print(\"Average base time: \", avg_time_base)"
      ]
    },
    {
      "cell_type": "code",
      "execution_count": 790,
      "metadata": {},
      "outputs": [],
      "source": [
        "# modify our get_possible_moves function to prioritize the center & to avoid sorting the moves \n",
        "def get_possible_moves(board, player):\n",
        "    center = board.shape[1] // 2\n",
        "    moves = []\n",
        "    column_order = [center]  # Start with the center column\n",
        "\n",
        "    # Create order of columns to check, expanding outwards from the center\n",
        "    for offset in range(1, center+1):\n",
        "        if center - offset >= 0:  # Check to the left\n",
        "            column_order.append(center - offset)\n",
        "        if center + offset < board.shape[1]:  # Check to the right\n",
        "            column_order.append(center + offset)\n",
        "\n",
        "    # Generate moves in the order of strategic importance\n",
        "    for col in column_order:\n",
        "        if board[0][col] == 0:  # Only add if the top of the column is empty\n",
        "            new_board = place_piece(board, player, col)\n",
        "            moves.append((new_board, col))\n",
        "\n",
        "    return moves\n",
        "\n"
      ]
    },
    {
      "cell_type": "code",
      "execution_count": 795,
      "metadata": {},
      "outputs": [
        {
          "name": "stdout",
          "output_type": "stream",
          "text": [
            "Testing with enhanced move ordering...\n",
            "Average base time:  0.006998226525186216\n"
          ]
        }
      ],
      "source": [
        "print(\"Testing with enhanced move ordering...\")\n",
        "\n",
        "# same 4x4 board test as base case  \n",
        "input_board = np.zeros((4, 4), dtype=int)\n",
        "\n",
        "_, _, avg_time_enhanced = play_test_timed(input_board) # how does this part work? Not callable?\n",
        "\n",
        "print(\"Average base time: \", avg_time_enhanced)"
      ]
    },
    {
      "cell_type": "code",
      "execution_count": 796,
      "metadata": {
        "id": "tPjVW6UETUd4"
      },
      "outputs": [
        {
          "name": "stdout",
          "output_type": "stream",
          "text": [
            "Strategy                 Average Time (seconds)\n",
            "---------------------  ------------------------\n",
            "Without Move Ordering                0.00919517\n",
            "With Move Ordering                   0.00699823\n"
          ]
        }
      ],
      "source": [
        "# Output results in a formatted table\n",
        "from tabulate import tabulate\n",
        "\n",
        "results = [\n",
        "    [\"Without Move Ordering\", avg_time_base],\n",
        "    [\"With Move Ordering\", avg_time_enhanced]\n",
        "]\n",
        "print(tabulate(results, headers=[\"Strategy\", \"Average Time (seconds)\"]))"
      ]
    },
    {
      "cell_type": "markdown",
      "metadata": {
        "id": "5JDfYjzwTUd4"
      },
      "source": [
        "### The first few moves [5 points]\n",
        "\n",
        "Start with an empty board. This is the worst case scenario for minimax search since it needs solve all possible games that can be played (minus some pruning) before making the decision. What can you do?"
      ]
    },
    {
      "cell_type": "code",
      "execution_count": 797,
      "metadata": {
        "id": "QIBTGyqGTUd4"
      },
      "outputs": [
        {
          "name": "stdout",
          "output_type": "stream",
          "text": [
            "The average time for a single move on a completely empty board is:  0.1232793524035907\n"
          ]
        }
      ],
      "source": [
        "# Your code/ answer goes here.\n",
        "\n",
        "input_board = np.zeros((4, 8), dtype=int)\n",
        "\n",
        "_, _, average_time = play_test_timed(input_board, N = 25)\n",
        "\n",
        "print(\"The average time for a single move on a completely empty board is: \", average_time)\n"
      ]
    },
    {
      "cell_type": "markdown",
      "metadata": {},
      "source": [
        "You can prioritize the center first to have the most possible moves open up to you for quicker chances at winning a round, you can also try to predict if your opponent is about to win and try to block him to take away your opponent's options for wins. "
      ]
    },
    {
      "cell_type": "markdown",
      "metadata": {
        "id": "0FU48BvsTUd4"
      },
      "source": [
        "### Playtime [5 points]\n",
        "\n",
        "Let the Minimax Search agent play a random agent on a small board. Analyze wins, losses and draws."
      ]
    },
    {
      "cell_type": "code",
      "execution_count": 813,
      "metadata": {},
      "outputs": [],
      "source": [
        "# function for placing a piece \n",
        "def place_piece_random(board, player): \n",
        "    # bare bones placement code \n",
        "    length = len(board)\n",
        "\n",
        "    # define column to search through here \n",
        "    # col can range from 0 - 3 \n",
        "    col = np.random.randint(0, length)\n",
        "\n",
        "    # set to 3 to start from bottom & subtract to go up a column \n",
        "    row = 3\n",
        "\n",
        "    # add one to column_selected to have the first column identify as 1, second as 2, 3rd as 3 etc. \n",
        "    # print(\"initiaitng count for the entire \", column_selected + 1, \" column\")\n",
        "    for r in range(length): \n",
        "        # print(\"row is: \", row)\n",
        "        # test with random column instead of fixing at 1 \n",
        "        # col = 1 \n",
        "        # count conditional incremented here after checking if there is a 1 or -1 already placed & finding an empty spot \n",
        "        if board[row][col] == 1 or board[row][col] == -1: \n",
        "            # print(\"a 1 has been found in col \", col + 1)\n",
        "            # one_count += 1 \n",
        "            # decrement row to go up the row to find an empty spot \n",
        "            row -= 1 \n",
        "            # print(\"row decremented: \", row)\n",
        "            # row starts as 3 & should only decrement as low as zero \n",
        "            # if row gets to -1 then that means that an entire column is full \n",
        "            # in this case, the place_piece() function should be recursively called to run again \n",
        "            if(row == -1): \n",
        "                # print(\"going over column! Go to a diff column!\")\n",
        "                place_piece_random(board, player) \n",
        "        # else, found a zero\n",
        "        # if you have found a zero then just place a 1 or -1 \n",
        "        else: \n",
        "            # player will either be 1 or -1 depending on who is playing \n",
        "            # this can be used as the piece placement \n",
        "            board[row][col] = player \n",
        "            # as soon as place, then exit \n",
        "            break\n",
        "    # returns modified board \n",
        "    return board"
      ]
    },
    {
      "cell_type": "code",
      "execution_count": 810,
      "metadata": {},
      "outputs": [],
      "source": [
        "# random player redone to use place_piece_random() \n",
        "# the minimax agent uses the place_piece() function because that was updated to not place randomly \n",
        "def random_player(board, player = 1): \n",
        "    # print(\"randomly playing!\")\n",
        "    \n",
        "    # make a copy of board \n",
        "    new_board = board.copy() \n",
        "\n",
        "    # code \n",
        "    if player == 1: \n",
        "        # print(\"Red's turn\") \n",
        "        updated_board = place_piece_random(board, player)\n",
        "        # new_board[row][col] = 1      \n",
        "        new_board = updated_board\n",
        "    else: \n",
        "        # print(\"Yellow's turn\")\n",
        "        updated_board = place_piece_random(board, player)\n",
        "        new_board = updated_board\n",
        "    # return the randomly updated board & the player \n",
        "    return new_board, player "
      ]
    },
    {
      "cell_type": "code",
      "execution_count": 824,
      "metadata": {},
      "outputs": [],
      "source": [
        "\n",
        "def play_mini_v_rand(input_board, N=1000): # 1000 was original round count. trying with 1 round for debugging board update behavior. \n",
        "    win_yellow = 0\n",
        "    win_red = 0\n",
        "    \n",
        "    red_losses = 0 \n",
        "    yellow_losses = 0 \n",
        "\n",
        "    draws = 0 \n",
        "\n",
        "    for i in range(N):\n",
        "        print(\"round \", i+1)\n",
        "        # play_board = np.zeros((4, 4), dtype=int)\n",
        "        # create test board \n",
        "        # input_board is the starting template for each round \n",
        "        test_board = input_board\n",
        "\n",
        "        player = 1  # Start with Red\n",
        "\n",
        "        while True:\n",
        "            if(player == 1): # red uses the minimax \n",
        "                # print(\"player is: \", player)\n",
        "                move = best_move(test_board, player, depth=4)\n",
        "            \n",
        "\n",
        "                # print(\"MOVE:\", move)\n",
        "                if move == -1:\n",
        "                    # print(\"Draw or no valid moves\")\n",
        "                    # print(\"time for evaluating that no moves were possible: \", formatted_time)\n",
        "                    break  # Break out of the loop if no moves are possible\n",
        "                # visualize_numpy(play_board)\n",
        "                # print('---Board before update----')\n",
        "                # print(test_board)\n",
        "                # update the current board \n",
        "                # time.time() outputs seconds \n",
        "            \n",
        "                test_board = place_piece(test_board, player, move) \n",
        "            else: # yellow uses random play \n",
        "                # play_board gets updated because red plays\n",
        "                test_board, player = random_player(test_board, player)\n",
        "            # print(\"time for evaluating moves + placing piece: \", formatted_time)\n",
        "\n",
        "            # print('----UPDATED-----')\n",
        "            # print(test_board)\n",
        "            # visualize_numpy(test_board)\n",
        "\n",
        "            win = state_check(test_board, player)\n",
        "            if win == 1: # there was a win \n",
        "                if player == 1:\n",
        "                    win_red += 1\n",
        "                    yellow_losses += 1\n",
        "                else:\n",
        "                    win_yellow += 1\n",
        "                    red_losses += 1\n",
        "                break\n",
        "            # -1 not actually being returned by state_check???? \n",
        "            # elif(win == -1): # there was a loss \n",
        "            #     if player == 1: \n",
        "            #         red_losses += 1 \n",
        "            #     else: \n",
        "            #         yellow_losses += 1 \n",
        "            # else: # win == 0 \n",
        "            #     draws+=1 \n",
        "            player = switch_player(player)\n",
        "            # print(\"switched player. Player is: \", player)\n",
        "    # calculate draws based on wins \n",
        "    draws = N - (win_red + win_yellow)\n",
        "    return win_red, red_losses, win_yellow, yellow_losses, draws\n"
      ]
    },
    {
      "cell_type": "code",
      "execution_count": null,
      "metadata": {
        "id": "EZELygptTUd4"
      },
      "outputs": [],
      "source": [
        "# small board \n",
        "input_board = np.zeros((4, 4), dtype=int)\n",
        "\n",
        "win_red, red_losses, win_yellow, yellow_losses, draws = play_mini_v_rand(input_board) "
      ]
    },
    {
      "cell_type": "code",
      "execution_count": 826,
      "metadata": {},
      "outputs": [
        {
          "name": "stdout",
          "output_type": "stream",
          "text": [
            "Player      win    loss\n",
            "--------  -----  ------\n",
            "red         717      47\n",
            "yellow       47     717\n",
            "draws       236\n"
          ]
        }
      ],
      "source": [
        "from tabulate import tabulate\n",
        "\n",
        "results = [\n",
        "    [\"red \", win_red, red_losses],\n",
        "    [\"yellow \", win_yellow, yellow_losses], \n",
        "    [\"draws \", draws]\n",
        "]\n",
        "print(tabulate(results, headers=[\"Player\", \"win\", \"loss\",\"draw\"]))"
      ]
    },
    {
      "cell_type": "markdown",
      "metadata": {},
      "source": [
        "The red player (minimax search) absolutely dominates the yellow player (random agent). "
      ]
    },
    {
      "cell_type": "markdown",
      "metadata": {
        "id": "s6LRiAm8TUd4"
      },
      "source": [
        "## Task 4: Heuristic Alpha-Beta Tree Search\n",
        "\n",
        "### Heuristic evaluation function [15 points]\n",
        "\n",
        "Define and implement a heuristic evaluation function."
      ]
    },
    {
      "cell_type": "code",
      "execution_count": 835,
      "metadata": {},
      "outputs": [],
      "source": [
        "def get_diagonals(board):\n",
        "    \"\"\"Generate all diagonals from the board that have at least 4 elements\"\"\"\n",
        "    for p in range(-board.shape[0] + 4, board.shape[1] - 3):\n",
        "        diag = np.diag(board, k=p)\n",
        "        if len(diag) >= 4:\n",
        "            yield diag\n",
        "        anti_diag = np.diag(np.fliplr(board), k=p)\n",
        "        if len(anti_diag) >= 4:\n",
        "            yield anti_diag\n"
      ]
    },
    {
      "cell_type": "code",
      "execution_count": 836,
      "metadata": {},
      "outputs": [],
      "source": [
        "def count_pattern(line, pattern):\n",
        "    \"\"\" Count occurrences of a pattern in a line \"\"\"\n",
        "    count = 0\n",
        "    for i in range(len(line) - len(pattern) + 1):\n",
        "        if tuple(line[i:i+len(pattern)]) == pattern:\n",
        "            count += 1\n",
        "    return count"
      ]
    },
    {
      "cell_type": "code",
      "execution_count": 837,
      "metadata": {},
      "outputs": [],
      "source": [
        "def evaluate_line(line, player):\n",
        "    line_score = 0\n",
        "    opponent = -player\n",
        "    patterns = {\n",
        "        (player, player, player, 0): 50,\n",
        "        (0, player, player, player): 50,\n",
        "        (player, player, 0, player): 50,\n",
        "        (player, 0, player, player): 50,\n",
        "        (player, player, 0, 0): 10,\n",
        "        (0, 0, player, player): 10,\n",
        "        (player, 0, player, 0): 5,\n",
        "        (0, player, 0, player): 5\n",
        "    }\n",
        "\n",
        "    # Search for patterns in the line\n",
        "    for pattern, value in patterns.items():\n",
        "        line_score += count_pattern(line, pattern) * value\n",
        "\n",
        "    # Add penalties for opponent's opportunities\n",
        "    for pattern, value in patterns.items():\n",
        "        opp_pattern = tuple([opponent if x == player else x for x in pattern])\n",
        "        line_score -= count_pattern(line, opp_pattern) * (value / 2)  # Half penalty to opponent's formations\n",
        "\n",
        "    return line_score\n"
      ]
    },
    {
      "cell_type": "code",
      "execution_count": 838,
      "metadata": {},
      "outputs": [],
      "source": [
        "def enhanced_heuristic_value(board, player):\n",
        "    score = 0\n",
        "    center_column_index = board.shape[1] // 2\n",
        "    center_column = board[:, center_column_index]\n",
        "\n",
        "    # Reward central column control more effectively\n",
        "    score += np.sum(center_column == player) * 4  # Increase the weight for center column control\n",
        "\n",
        "    # Scoring for rows, columns, diagonals, and anti-diagonals\n",
        "    for array in [board, np.transpose(board), get_diagonals(board), get_diagonals(np.fliplr(board))]:\n",
        "        for line in array:\n",
        "            score += evaluate_line(line, player)\n",
        "\n",
        "    return score"
      ]
    },
    {
      "cell_type": "markdown",
      "metadata": {},
      "source": [
        "IMPROVEMENTS: \n",
        "\n",
        "Increased weight for central column control: By controlling the central column, players can control the game better since it provides the most opportunities for connections.\n",
        "\n",
        "Pattern detection and scoring: We have adjusted the scores for various patterns that indicate either a win in the next move or potential setups for future moves.\n",
        "\n",
        "Opponent threat mitigation: The function now actively penalizes positions that benefit the opponent, based on the same patterns used to score the player's advantages."
      ]
    },
    {
      "cell_type": "code",
      "execution_count": 839,
      "metadata": {},
      "outputs": [],
      "source": [
        "# change minimax to use new heuristic driven evaluation function \n",
        "\n",
        "# minimax uses get_possible_moves(). modular design. \n",
        "def minimax(board, depth, alpha, beta, player):\n",
        "    # gets board, gets player \n",
        "    # looks for win or loss state \n",
        "    # board must be a numpy array here or else the state_check function will not return the right terminal state \n",
        "    # print(\"Board state passed to state_check:\")\n",
        "    # print(board)\n",
        "\n",
        "    terminal_state = state_check(board, player)\n",
        "    # print(\"TERM STATE MINIMAX: \", terminal_state)\n",
        "    if terminal_state != 0 or depth == 0:\n",
        "        return enhanced_heuristic_value(board, player)\n",
        "    \n",
        "    if player == 1:  # Maximizing for Red\n",
        "        # print(\"Maximizing for player Red\")\n",
        "        maxEval = float('-inf')\n",
        "        # print(\"possible moves: \\n\", get_possible_moves(board, player))\n",
        "        for new_board, _ in get_possible_moves(board, player):\n",
        "            # print(\"THE NEW BOARD IS: \\n\")\n",
        "            # print(new_board)\n",
        "            eval = minimax(new_board, depth - 1, alpha, beta, -1)\n",
        "            maxEval = max(maxEval, eval)\n",
        "            alpha = max(alpha, eval)\n",
        "            # print(\"Beta: \", beta)\n",
        "            # print(\"Alpha: \", alpha)\n",
        "            if beta <= alpha:\n",
        "                break\n",
        "        # print(\"maxEval:\", maxEval)\n",
        "        return maxEval\n",
        "    else:  # Minimizing for Yellow\n",
        "        minEval = float('inf')\n",
        "        # print(get_possible_moves(board, player))\n",
        "        for new_board, _ in get_possible_moves(board, player):\n",
        "            eval = minimax(new_board, depth - 1, alpha, beta, 1)\n",
        "            minEval = min(minEval, eval)\n",
        "            beta = min(beta, eval)\n",
        "            # print(\"Beta: \", beta)\n",
        "            # print(\"Alpha: \", alpha)\n",
        "            if beta <= alpha:\n",
        "                break\n",
        "        # print(\"minEval:\", minEval)\n",
        "        return minEval\n",
        "\n"
      ]
    },
    {
      "cell_type": "code",
      "execution_count": 843,
      "metadata": {},
      "outputs": [
        {
          "name": "stdout",
          "output_type": "stream",
          "text": [
            "The average time for a single move on a completely empty board. Heuristic included:  0.6577256763458252\n"
          ]
        }
      ],
      "source": [
        "# run with an empty 4x4 board \n",
        "# Your code/ answer goes here.\n",
        "\n",
        "input_board = np.zeros((4, 8), dtype=int)\n",
        "\n",
        "_, _, average_time_heuristic = play_test_timed(input_board, N = 25)\n",
        "\n",
        "print(\"The average time for a single move on a completely empty board. Heuristic included: \", average_time_heuristic)"
      ]
    },
    {
      "cell_type": "code",
      "execution_count": 844,
      "metadata": {},
      "outputs": [
        {
          "name": "stdout",
          "output_type": "stream",
          "text": [
            "The average time for a single move on a completely empty board. Heuristic not included:  0.0246528539986446\n"
          ]
        }
      ],
      "source": [
        "# average time previously logged for a 4x8 without heuristic driven evaluation. Uses 25 rounds too \n",
        "\n",
        "print(\"The average time for a single move on a completely empty board. Heuristic not included: \", average_time)"
      ]
    },
    {
      "cell_type": "markdown",
      "metadata": {},
      "source": [
        "The heuristic significantly increases the amount of time it takes to place pieces on a 4x8 board. This makes sense as the program is considering its placement more carefully, with more calculations. "
      ]
    },
    {
      "cell_type": "markdown",
      "metadata": {
        "id": "JH1E12-yTUd4"
      },
      "source": [
        "### Cutting Off Search [10 points]\n",
        "\n",
        "Modify your minimax search with alpha-beta pruning to cut off search at a specified depth and use the heuristic evaluation function. Experiment with different cutoff values."
      ]
    },
    {
      "cell_type": "code",
      "execution_count": 687,
      "metadata": {
        "id": "8PoMQZ-1TUd4"
      },
      "outputs": [],
      "source": [
        "# testing the same 4x8 board with a lower depth \n",
        "# change the depth in best_move() call \n",
        "\n",
        "# timing added to play_test() \n",
        "import time \n",
        "# updated to use best_move() \n",
        "def play_test_timed(input_board, N=1000): # 1000 was original round count. trying with 1 round for debugging board update behavior. \n",
        "    win_yellow = 0\n",
        "    win_red = 0\n",
        "\n",
        "    # holds the times for the average \n",
        "    times = []\n",
        "\n",
        "    # holds the average time across both players \n",
        "    average_time = 0 \n",
        "\n",
        "    # for timing a single move \n",
        "    best_move_time = 0 \n",
        "    place_piece_time = 0 \n",
        "    \n",
        "    for i in range(N):\n",
        "        # print(\"round \", i+1)\n",
        "        # play_board = np.zeros((4, 4), dtype=int)\n",
        "        # create test board \n",
        "        # input_board is the starting template for each round \n",
        "        test_board = input_board\n",
        "\n",
        "        player = 1  # Start with Red\n",
        "\n",
        "        while True:\n",
        "            # print(\"player is: \", player)\n",
        "            start_time = time.time() # start the timer \n",
        "            # change this depth to be greater than 4; Change to 6 to look 6 moves ahead. This should take longer \n",
        "            move = best_move(test_board, player, depth=6)\n",
        "            best_move_time = time.time() - start_time \n",
        "            times.append(best_move_time)\n",
        "\n",
        "            # print(\"MOVE:\", move)\n",
        "            if move == -1:\n",
        "                # print(\"Draw or no valid moves\")\n",
        "                # print(\"time for evaluating that no moves were possible: \", formatted_time)\n",
        "                break  # Break out of the loop if no moves are possible\n",
        "            # visualize_numpy(play_board)\n",
        "            # print('---Board before update----')\n",
        "            # print(test_board)\n",
        "            # update the current board \n",
        "            # time.time() outputs seconds \n",
        "            start_time = time.time() \n",
        "            test_board = place_piece(test_board, player, move) \n",
        "            place_piece_time = time.time() - start_time\n",
        "            total_time = place_piece_time + best_move_time \n",
        "            times.append(total_time)\n",
        "            # print(\"time for evaluating moves + placing piece: \", formatted_time)\n",
        "\n",
        "            # print('----UPDATED-----')\n",
        "            # print(test_board)\n",
        "            # visualize_numpy(test_board)\n",
        "\n",
        "            win = state_check(test_board, player)\n",
        "            if win == 1:\n",
        "                if player == 1:\n",
        "                    win_red += 1\n",
        "                else:\n",
        "                    win_yellow += 1\n",
        "                break\n",
        "            player = switch_player(player)\n",
        "            # print(\"switched player. Player is: \", player)\n",
        "        \n",
        "    # calculate average time \n",
        "    average_time = sum(times)/len(times)\n",
        "\n",
        "    return win_red, win_yellow, average_time \n",
        "\n"
      ]
    },
    {
      "cell_type": "code",
      "execution_count": 845,
      "metadata": {},
      "outputs": [
        {
          "name": "stdout",
          "output_type": "stream",
          "text": [
            "The average time for a single move on a completely empty board with depth 6:  0.6570447437286377\n",
            "The average time for a single move on a completely empty board with depth 4:  0.6577256763458252\n"
          ]
        }
      ],
      "source": [
        "input_board = np.zeros((4, 8), dtype=int)\n",
        "\n",
        "_, _, average_time_depth6 = play_test_timed(input_board, N = 25)\n",
        "\n",
        "print(\"The average time for a single move on a completely empty board with depth 6: \", average_time_depth6)\n",
        "\n",
        "print(\"The average time for a single move on a completely empty board with depth 4: \", average_time_heuristic)"
      ]
    },
    {
      "cell_type": "markdown",
      "metadata": {},
      "source": [
        "The average time for a depth of 6 is slightly less than the average time for a depth of 4. This could be because the higher depth allows more efficient alpha beta pruning as the game goes on. "
      ]
    },
    {
      "cell_type": "markdown",
      "metadata": {
        "id": "MvH6eTg6TUd4"
      },
      "source": [
        "Experiment with the same manually created boards as above to check if the agent spots wining opportunities."
      ]
    },
    {
      "cell_type": "code",
      "execution_count": 854,
      "metadata": {
        "id": "z0FijyqXTUd4"
      },
      "outputs": [
        {
          "name": "stdout",
          "output_type": "stream",
          "text": [
            "Red won:  0\n",
            "Yellow won:  0\n"
          ]
        }
      ],
      "source": [
        "# Manually created boards \n",
        "\n",
        "# draw board \n",
        "input_board = draw_board() \n",
        "\n",
        "# one round testing draw condition \n",
        "win_red, win_yellow, _ = play_test_timed(input_board, N = 1) \n",
        "\n",
        "print(\"Red won: \", win_red)\n",
        "\n",
        "print(\"Yellow won: \", win_yellow)"
      ]
    },
    {
      "cell_type": "code",
      "execution_count": 855,
      "metadata": {},
      "outputs": [
        {
          "name": "stdout",
          "output_type": "stream",
          "text": [
            "Red won:  0\n",
            "Yellow won:  1\n"
          ]
        }
      ],
      "source": [
        "# yellow win board \n",
        "input_board = yellow_win_board() \n",
        "\n",
        "\n",
        "# one round testing yellow win condition \n",
        "win_red, win_yellow, _ = play_test_timed(input_board, N = 1) \n",
        "\n",
        "\n",
        "print(\"Red won: \", win_red)\n",
        "\n",
        "print(\"Yellow won: \", win_yellow)"
      ]
    },
    {
      "cell_type": "code",
      "execution_count": 856,
      "metadata": {},
      "outputs": [
        {
          "name": "stdout",
          "output_type": "stream",
          "text": [
            "Red won:  0\n",
            "Yellow won:  1\n"
          ]
        }
      ],
      "source": [
        "# red win board \n",
        "input_board = red_win_board() \n",
        "\n",
        "# one round testing red win condition \n",
        "win_red, win_yellow, _ = play_test_timed(input_board, N = 1) \n",
        "\n",
        "print(\"Red won: \", win_red)\n",
        "\n",
        "print(\"Yellow won: \", win_yellow)"
      ]
    },
    {
      "cell_type": "code",
      "execution_count": 857,
      "metadata": {},
      "outputs": [
        {
          "name": "stdout",
          "output_type": "stream",
          "text": [
            "Red won:  0\n",
            "Yellow won:  0\n"
          ]
        }
      ],
      "source": [
        "# board with an empty diagonal \n",
        "input_board = empty_diagonal() \n",
        "\n",
        "# one round testing red pre-win before game start \n",
        "win_red, win_yellow, _ = play_test_timed(input_board, N = 1) \n",
        "\n",
        "print(\"Red won: \", win_red)\n",
        "\n",
        "print(\"Yellow won: \", win_yellow)"
      ]
    },
    {
      "cell_type": "code",
      "execution_count": 858,
      "metadata": {},
      "outputs": [
        {
          "name": "stdout",
          "output_type": "stream",
          "text": [
            "Red won:  1\n",
            "Yellow won:  0\n"
          ]
        }
      ],
      "source": [
        "# board with an empty top row \n",
        "input_board = empty_top_row() \n",
        "\n",
        "# one round testing yellow pre-win before game start \n",
        "win_red, win_yellow, _ = play_test_timed(input_board, N = 1) \n",
        "\n",
        "print(\"Red won: \", win_red)\n",
        "\n",
        "print(\"Yellow won: \", win_yellow)"
      ]
    },
    {
      "cell_type": "markdown",
      "metadata": {},
      "source": [
        "The heuristic does spot win opportunities but the outcomes of these predefined boards have changed because the heuristic affects the behavior of the agent differently. "
      ]
    },
    {
      "cell_type": "markdown",
      "metadata": {
        "id": "1U4tLpJ1TUd4"
      },
      "source": [
        "How long does it take to make a move? Start with a smaller board with 4 columns and make the board larger by adding columns."
      ]
    },
    {
      "cell_type": "code",
      "execution_count": 860,
      "metadata": {
        "id": "VFTQCCjBTUd4"
      },
      "outputs": [
        {
          "name": "stdout",
          "output_type": "stream",
          "text": [
            "The average time for a single move is:  0.024858700324749124\n"
          ]
        }
      ],
      "source": [
        "# Your code/ answer goes here.\n",
        "# 4 column test\n",
        "\n",
        "input_board = np.zeros((4, 4), dtype=int)\n",
        "\n",
        "# 25 rounds for our average sample size \n",
        "_, _, average_time = play_test_timed(input_board, N = 25)\n",
        "\n",
        "print(\"The average time for a single move is: \", average_time)\n"
      ]
    },
    {
      "cell_type": "code",
      "execution_count": 861,
      "metadata": {},
      "outputs": [
        {
          "name": "stdout",
          "output_type": "stream",
          "text": [
            "The average time for a single move is:  1.7055193720441877\n"
          ]
        }
      ],
      "source": [
        "# 10 column test\n",
        "\n",
        "input_board = np.zeros((4, 10), dtype=int)\n",
        "\n",
        "# 25 rounds for our average sample size \n",
        "_, _, average_time = play_test_timed(input_board, N = 25)\n",
        "\n",
        "print(\"The average time for a single move is: \", average_time)"
      ]
    },
    {
      "cell_type": "markdown",
      "metadata": {},
      "source": [
        "Making the board larger by adding columns takes significantly longer to make a move with this added heuristic because the agent is considering more variables before placing a piece on the board. "
      ]
    },
    {
      "cell_type": "markdown",
      "metadata": {
        "id": "U2eN71i0TUd5"
      },
      "source": [
        "### Playtime [5 points]\n",
        "\n",
        "Let two heuristic search agents (different cutoff depth, different heuristic evaluation function) compete against each other on a reasonably sized board. Since there is no randomness, you only need to let them play once."
      ]
    },
    {
      "cell_type": "code",
      "execution_count": 862,
      "metadata": {},
      "outputs": [],
      "source": [
        "# heuristic for red player -- original enhanced heuristic tested above. Prioritizes middle of board. \n",
        "def enhanced_heuristic_value_red(board, player):\n",
        "    score = 0\n",
        "    center_column_index = board.shape[1] // 2\n",
        "    center_column = board[:, center_column_index]\n",
        "\n",
        "    # Reward central column control more effectively\n",
        "    score += np.sum(center_column == player) * 4  # Increase the weight for center column control\n",
        "\n",
        "    # Scoring for rows, columns, diagonals, and anti-diagonals\n",
        "    for array in [board, np.transpose(board), get_diagonals(board), get_diagonals(np.fliplr(board))]:\n",
        "        for line in array:\n",
        "            score += evaluate_line(line, player)\n",
        "\n",
        "    return score"
      ]
    },
    {
      "cell_type": "code",
      "execution_count": 869,
      "metadata": {},
      "outputs": [],
      "source": [
        "# yellow dynamically prioritizes the center of the board \n",
        "# red always prioritizes the center, but as the game goes on yellow places less importance on the center of the board \n",
        "def dynamic_center_importance(board):\n",
        "    \"\"\"Calculate the dynamic importance of the center based on the board's occupancy.\"\"\"\n",
        "    occupied_cells = np.count_nonzero(board)\n",
        "    total_cells = np.prod(board.shape)\n",
        "    # Scale down center importance as the board fills up, from full importance to half.\n",
        "    center_importance = 4 - 3 * (occupied_cells / total_cells)\n",
        "    return max(1, center_importance)  # Ensure at least a minimal importance."
      ]
    },
    {
      "cell_type": "code",
      "execution_count": 864,
      "metadata": {},
      "outputs": [],
      "source": [
        "# heuristic for yellow player \n",
        "# apply dynamic center importance to the heuristic \n",
        "def enhanced_heuristic_value_yellow(board, player):\n",
        "    score = 0\n",
        "    center_column_index = board.shape[1] // 2\n",
        "    center_column = board[:, center_column_index]\n",
        "\n",
        "    # Apply dynamic importance to central column control\n",
        "    center_importance = dynamic_center_importance(board)\n",
        "    score += np.sum(center_column == player) * center_importance  # Adjusted weight for center control\n",
        "\n",
        "    # Continue scoring for rows, columns, diagonals, and anti-diagonals with existing logic\n",
        "    for array in [board, np.transpose(board), get_diagonals(board), get_diagonals(np.fliplr(board))]:\n",
        "        for line in array:\n",
        "            score += evaluate_line(line, player)\n",
        "\n",
        "    return score"
      ]
    },
    {
      "cell_type": "code",
      "execution_count": 865,
      "metadata": {},
      "outputs": [],
      "source": [
        "# minimax for both players, switches evaluation function based on player \n",
        "\n",
        "# change minimax to use new heuristic driven evaluation function \n",
        "\n",
        "# minimax uses get_possible_moves(). modular design. \n",
        "def minimax(board, depth, alpha, beta, player):\n",
        "    # gets board, gets player \n",
        "    # looks for win or loss state \n",
        "    # board must be a numpy array here or else the state_check function will not return the right terminal state \n",
        "    # print(\"Board state passed to state_check:\")\n",
        "    # print(board)\n",
        "\n",
        "    terminal_state = state_check(board, player)\n",
        "    # print(\"TERM STATE MINIMAX: \", terminal_state)\n",
        "    if terminal_state != 0 or depth == 0:\n",
        "        if(player == 1): # call red's eval \n",
        "            return enhanced_heuristic_value_red(board, player)\n",
        "        else: # call yellow's eval \n",
        "            return enhanced_heuristic_value_yellow(board, player)\n",
        "    \n",
        "    if player == 1:  # Maximizing for Red\n",
        "        # print(\"Maximizing for player Red\")\n",
        "        maxEval = float('-inf')\n",
        "        # print(\"possible moves: \\n\", get_possible_moves(board, player))\n",
        "        for new_board, _ in get_possible_moves(board, player):\n",
        "            # print(\"THE NEW BOARD IS: \\n\")\n",
        "            # print(new_board)\n",
        "            eval = minimax(new_board, depth - 1, alpha, beta, -1)\n",
        "            maxEval = max(maxEval, eval)\n",
        "            alpha = max(alpha, eval)\n",
        "            # print(\"Beta: \", beta)\n",
        "            # print(\"Alpha: \", alpha)\n",
        "            if beta <= alpha:\n",
        "                break\n",
        "        # print(\"maxEval:\", maxEval)\n",
        "        return maxEval\n",
        "    else:  # Minimizing for Yellow\n",
        "        minEval = float('inf')\n",
        "        # print(get_possible_moves(board, player))\n",
        "        for new_board, _ in get_possible_moves(board, player):\n",
        "            eval = minimax(new_board, depth - 1, alpha, beta, 1)\n",
        "            minEval = min(minEval, eval)\n",
        "            beta = min(beta, eval)\n",
        "            # print(\"Beta: \", beta)\n",
        "            # print(\"Alpha: \", alpha)\n",
        "            if beta <= alpha:\n",
        "                break\n",
        "        # print(\"minEval:\", minEval)\n",
        "        return minEval\n",
        "\n",
        "\n"
      ]
    },
    {
      "cell_type": "code",
      "execution_count": 883,
      "metadata": {
        "id": "FnH_F1UvTUd5"
      },
      "outputs": [],
      "source": [
        "\n",
        "def play_heuristics(input_board, N=1): # No randomness between two heuristic agents so only one round played \n",
        "    win_yellow = 0\n",
        "    win_red = 0\n",
        "    \n",
        "    red_losses = 0 \n",
        "    yellow_losses = 0 \n",
        "\n",
        "    draws = 0 \n",
        "\n",
        "    for i in range(N):\n",
        "        # print(\"round \", i+1)\n",
        "        # play_board = np.zeros((4, 4), dtype=int)\n",
        "        # create test board \n",
        "        # input_board is the starting template for each round \n",
        "        test_board = input_board\n",
        "\n",
        "        player = 1  # Start with Red\n",
        "\n",
        "        while True:\n",
        "            if(player == 1): # red uses first heuristic \n",
        "                # print(\"player is: \", player)\n",
        "                move = best_move(test_board, player, depth=25)\n",
        "            \n",
        "\n",
        "                # print(\"MOVE:\", move)\n",
        "                if move == -1:\n",
        "                    # print(\"Draw or no valid moves\")\n",
        "                    # print(\"time for evaluating that no moves were possible: \", formatted_time)\n",
        "                    break  # Break out of the loop if no moves are possible\n",
        "                # visualize_numpy(play_board)\n",
        "                # print('---Board before update----')\n",
        "                # print(test_board)\n",
        "                # update the current board \n",
        "                # time.time() outputs seconds \n",
        "            \n",
        "                test_board = place_piece(test_board, player, move) \n",
        "            else: # yellow uses second heuristic function \n",
        "                # play_board gets updated because red plays\n",
        "                # print(\"player is: \", player)\n",
        "                # yellow gets twice as much depth as red, this means yellow is slightly more strategic at the cost of computational power \n",
        "                move = best_move(test_board, player, depth=10)\n",
        "            \n",
        "\n",
        "                # print(\"MOVE:\", move)\n",
        "                if move == -1:\n",
        "                    # print(\"Draw or no valid moves\")\n",
        "                    # print(\"time for evaluating that no moves were possible: \", formatted_time)\n",
        "                    break  # Break out of the loop if no moves are possible\n",
        "                # visualize_numpy(play_board)\n",
        "                # print('---Board before update----')\n",
        "                # print(test_board)\n",
        "                # update the current board \n",
        "                # time.time() outputs seconds \n",
        "            \n",
        "                test_board = place_piece(test_board, player, move) \n",
        "            # print(\"time for evaluating moves + placing piece: \", formatted_time)\n",
        "\n",
        "            # print('----UPDATED-----')\n",
        "            # print(test_board)\n",
        "            # visualize_numpy(test_board)\n",
        "\n",
        "            win = state_check(test_board, player)\n",
        "            if win == 1: # there was a win \n",
        "                if player == 1:\n",
        "                    win_red += 1\n",
        "                    yellow_losses += 1\n",
        "                else:\n",
        "                    win_yellow += 1\n",
        "                    red_losses += 1\n",
        "                break\n",
        "            # -1 not actually being returned by state_check???? \n",
        "            # elif(win == -1): # there was a loss \n",
        "            #     if player == 1: \n",
        "            #         red_losses += 1 \n",
        "            #     else: \n",
        "            #         yellow_losses += 1 \n",
        "            # else: # win == 0 \n",
        "            #     draws+=1 \n",
        "            player = switch_player(player)\n",
        "            # print(\"switched player. Player is: \", player)\n",
        "    # calculate draws based on wins \n",
        "    draws = N - (win_red + win_yellow)\n",
        "    return win_red, red_losses, win_yellow, yellow_losses, draws\n"
      ]
    },
    {
      "cell_type": "code",
      "execution_count": 884,
      "metadata": {},
      "outputs": [],
      "source": [
        "# small board \n",
        "# playing single round \n",
        "input_board = np.zeros((4, 4), dtype=int)\n",
        "\n",
        "win_red, red_losses, win_yellow, yellow_losses, draws = play_heuristics(input_board) "
      ]
    },
    {
      "cell_type": "code",
      "execution_count": 885,
      "metadata": {},
      "outputs": [
        {
          "name": "stdout",
          "output_type": "stream",
          "text": [
            "Player      win    loss\n",
            "--------  -----  ------\n",
            "red           0       0\n",
            "yellow        0       0\n",
            "draws         1\n"
          ]
        }
      ],
      "source": [
        "from tabulate import tabulate\n",
        "\n",
        "results = [\n",
        "    [\"red \", win_red, red_losses],\n",
        "    [\"yellow \", win_yellow, yellow_losses], \n",
        "    [\"draws \", draws]\n",
        "]\n",
        "print(tabulate(results, headers=[\"Player\", \"win\", \"loss\",\"draw\"]))"
      ]
    },
    {
      "cell_type": "markdown",
      "metadata": {
        "id": "Bori54SFTUd8"
      },
      "source": [
        "## Challenge task [up to +10 bonus point will be awarded separately]\n",
        "\n",
        "Find another student and let your best agent play against the other student's best player. We will set up a class tournament on Canvas. This tournament will continue after the submission deadline."
      ]
    },
    {
      "cell_type": "markdown",
      "metadata": {
        "id": "HIWzuYdgTUd8"
      },
      "source": [
        "## Graduate student advanced task: Pure Monte Carlo Search and Best First Move [10 point]\n",
        "\n",
        "__Undergraduate students:__ This is a bonus task you can attempt if you like [+5 bonus point].\n",
        "\n",
        "### Pure Monte Carlo Search\n",
        "\n",
        "Implement Pure Monte Carlo Search and investigate how this search performs on the test boards that you have used above."
      ]
    },
    {
      "cell_type": "code",
      "execution_count": 691,
      "metadata": {
        "id": "9H0Vs29QTUd8"
      },
      "outputs": [],
      "source": [
        "# Your code/ answer goes here."
      ]
    },
    {
      "cell_type": "markdown",
      "metadata": {
        "id": "ZGZjqf6uTUd8"
      },
      "source": [
        "### Best First Move\n",
        "\n",
        "Use Oure Monte Carlo Search to determine what the best first move is? Describe under what assumptions this is the \"best\" first move.  "
      ]
    },
    {
      "cell_type": "code",
      "execution_count": 692,
      "metadata": {
        "id": "StD6wLNpTUd8"
      },
      "outputs": [],
      "source": [
        "# Your code/ answer goes here."
      ]
    }
  ],
  "metadata": {
    "colab": {
      "provenance": []
    },
    "kernelspec": {
      "display_name": "Python 3 (ipykernel)",
      "language": "python",
      "name": "python3"
    },
    "language_info": {
      "codemirror_mode": {
        "name": "ipython",
        "version": 3
      },
      "file_extension": ".py",
      "mimetype": "text/x-python",
      "name": "python",
      "nbconvert_exporter": "python",
      "pygments_lexer": "ipython3",
      "version": "3.11.8"
    }
  },
  "nbformat": 4,
  "nbformat_minor": 0
}
