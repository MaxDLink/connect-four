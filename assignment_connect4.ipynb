{
  "cells": [
    {
      "cell_type": "markdown",
      "metadata": {
        "id": "oI_w999bTUdx"
      },
      "source": [
        "# Adversarial Search: Playing Connect 4\n",
        "\n",
        "Student Name: Max Link \n",
        "\n",
        "I have used the following AI tools: ChatGPT \n",
        "\n",
        "I understand that my submission needs to be my own work: ML \n",
        "\n",
        "## Instructions\n",
        "\n",
        "Total Points: Undegraduates 100, graduate students 110\n",
        "\n",
        "Complete this notebook and submit it. The notebook needs to be a complete project report with your implementation, documentation including a short discussion of how your implementation works and your design choices, and experimental results (e.g., tables and charts with simulation results) with a short discussion of what they mean. Use the provided notebook cells and insert additional code and markdown cells as needed.\n",
        "\n",
        "## Introduction\n",
        "\n",
        "You will implement different versions of agents that play Connect 4:\n",
        "\n",
        "> \"Connect 4 is a two-player connection board game, in which the players choose a color and then take turns dropping colored discs into a seven-column, six-row vertically suspended grid. The pieces fall straight down, occupying the lowest available space within the column. The objective of the game is to be the first to form a horizontal, vertical, or diagonal line of four of one's own discs.\" (see [Connect Four on Wikipedia](https://en.wikipedia.org/wiki/Connect_Four))\n",
        "\n",
        "Note that [Connect-4 has been solved](https://en.wikipedia.org/wiki/Connect_Four#Mathematical_solution)\n",
        "in 1988. A connect-4 solver with a discussion of how to solve different parts of the problem can be found here: https://connect4.gamesolver.org/en/"
      ]
    },
    {
      "cell_type": "markdown",
      "metadata": {
        "id": "usywJR0TTUdz"
      },
      "source": [
        "## Task 1: Defining the Search Problem [10 point]\n",
        "\n",
        "Define the components of the search problem:\n",
        "\n",
        "* Initial state\n",
        "* Actions\n",
        "* Transition model (result function)\n",
        "* Goal state (terminal state and utility)"
      ]
    },
    {
      "cell_type": "markdown",
      "metadata": {},
      "source": [
        "## Definitions: \n",
        "\n",
        "**Initial State:** The initial state is an empty board, with no discs in play. This means that all seven columns are empty. \n",
        "\n",
        "**Actions:** The player can drop a disc (red or yellow depending on their side) into one of seven columns. \n",
        "\n",
        "**Transition model:** Once a player drops a disc in a row, the board changes to accomodate that disc. This means that the transition model is a changing of column state from empty to filled. Blocking the other player can be considered here. \n",
        "\n",
        "**Goal State:** Once one side (either red or yellow) create a horizontal, vertical, or diagonal line of four discs, the game is over. "
      ]
    },
    {
      "cell_type": "markdown",
      "metadata": {},
      "source": [
        "**How big is the state space? Give an estimate and explain it.**\n",
        "\n",
        "The state space is seven columns by six rows of available options. The columns can be represented by c and the rows can be represented by r. This means that the state space is c x r big. We know that every board spot can be either: \n",
        "\n",
        "1. empty \n",
        "2. filled with red's piece \n",
        "3. filled with yellow's piece \n",
        "\n",
        "This gives us: c x r = 7 x 6 = 42 and each of the 3 states can take on one of these 42 possibilities. \n",
        "\n",
        "So the state space size is roughly 3^42.  "
      ]
    },
    {
      "cell_type": "markdown",
      "metadata": {
        "id": "4uUtFXBiTUd0"
      },
      "source": [
        "**How big is the game tree that minimax search will go through? Give an estimate and explain it.**"
      ]
    },
    {
      "cell_type": "markdown",
      "metadata": {},
      "source": [
        "The game tree represents all possible sequences of moves starting from the initial board state to all possible game endings. This tree houses the different board configurations (states) and also houses the different paths to get to these states (seq. of moves), so the size of this tree can be significantly larger than the state space size. \n",
        "\n",
        "Terminology: Branching factor is the average number of moves available from any given board state. Varies depending on the amount of empty columns. At the start there are 7 possible  moves because there are 7 possible columns, but the branching factor decreases as the columns are filled up. Depth of the tree is the average number of moves in a typical game. Connect 4 games rarely use all 42 spots because games usually end when one player gets four in a row. Common averages are 20-30 moves before ending. Lets assume depth is 20 for our problem. \n",
        "\n",
        "The game tree that minimax search will go through is roughly 4^20. To get this number, we raised the average branching factor to the power of the depth. This assumes that the average branching factor over the course of the game is about 4, as the game progresses and fewer columns are available to play. This also assumes that the average game length (depth of the tree) is about 20 moves. "
      ]
    },
    {
      "cell_type": "markdown",
      "metadata": {
        "id": "6Bp9wmjITUd1"
      },
      "source": [
        "## Task 2: Game Environment and Random Agent [25 point]\n",
        "\n",
        "Use a numpy character array as the board."
      ]
    },
    {
      "cell_type": "code",
      "execution_count": 2077,
      "metadata": {
        "id": "9AdTOz6YTUd1",
        "outputId": "d401aa30-92ae-4913-b7dc-4f1771090030"
      },
      "outputs": [
        {
          "name": "stdout",
          "output_type": "stream",
          "text": [
            "[[0 0 0 0 0 0 0]\n",
            " [0 0 0 0 0 0 0]\n",
            " [0 0 0 0 0 0 0]\n",
            " [0 0 0 0 0 0 0]\n",
            " [0 0 0 0 0 0 0]\n",
            " [0 0 0 0 0 0 0]]\n"
          ]
        }
      ],
      "source": [
        "# import numpy for array manipulation \n",
        "import numpy as np\n",
        "\n",
        "# this function creates an empty board \n",
        "# the empty board has a shape parameter, which is x, y \n",
        "# x here is 6, representing the 6 columns \n",
        "# y here is 7, representing the 7 columns \n",
        "def empty_board(shape=(6, 7)):\n",
        "    # np.full creates a multidimensional array \n",
        "    # this multidimensional array is 6x7, meaning it has 6 row and 7 columns \n",
        "    # every value in each row is filled with a zero with the fill_value=0 parameter \n",
        "    return np.full(shape=shape, fill_value=0)\n",
        "\n",
        "# display the empty board with a print statement below \n",
        "print(empty_board())"
      ]
    },
    {
      "cell_type": "markdown",
      "metadata": {
        "id": "iEx7K8-FTUd2"
      },
      "source": [
        "The standard board is $6 \\times 7$ but you can use smaller boards to test your code. Instead of colors (red and yellow), I use 1 and -1 to represent the players. Make sure that your agent functions all have the from: `agent_type(board, player = 1)`, where board is the current board position (in the format above) and player is the player whose next move it is and who the agent should play (as 1 and -1)."
      ]
    },
    {
      "cell_type": "code",
      "execution_count": 2078,
      "metadata": {
        "id": "xgpaoQZmTUd2",
        "outputId": "e31379b3-45bf-44aa-cb82-997dfd7bfc5b",
        "tags": []
      },
      "outputs": [
        {
          "data": {
            "image/png": "[encoded data removed]",
            "text/plain": [
              "<Figure size 640x480 with 1 Axes>"
            ]
          },
          "metadata": {},
          "output_type": "display_data"
        }
      ],
      "source": [
        "# Visualization code by Randolph Rankin\n",
        "# -1 is yellow \n",
        "# 1 is red \n",
        "\n",
        "import matplotlib.pyplot as plt\n",
        "\n",
        "def visualize(board):\n",
        "    plt.axes()\n",
        "    rectangle=plt.Rectangle((-0.5,len(board)*-1+0.5),len(board[0]),len(board),fc='blue')\n",
        "    circles=[]\n",
        "    for i,row in enumerate(board):\n",
        "        for j,val in enumerate(row):\n",
        "            color='white' if val==0 else 'red' if val==1 else 'yellow'\n",
        "            circles.append(plt.Circle((j,i*-1),0.4,fc=color))\n",
        "\n",
        "    plt.gca().add_patch(rectangle)\n",
        "    for circle in circles:\n",
        "        plt.gca().add_patch(circle)\n",
        "\n",
        "    plt.axis('scaled')\n",
        "    plt.show()\n",
        "\n",
        "board = [[0, 0, 0, 0, 0, 0, 0],\n",
        "         [0, 0, 0, 0, 0, 0, 0],\n",
        "         [0, 0, 0, 0, 0, 0, 0],\n",
        "         [0, 0, 0, 1, 0, 0, 0],\n",
        "         [0, 0, 0, 1, 0, 0, 0],\n",
        "         [0,-1,-1, 1,-1, 0, 0]]\n",
        "visualize(board)"
      ]
    },
    {
      "cell_type": "code",
      "execution_count": 2079,
      "metadata": {},
      "outputs": [
        {
          "data": {
            "image/png": "[encoded data removed]",
            "text/plain": [
              "<Figure size 640x480 with 1 Axes>"
            ]
          },
          "metadata": {},
          "output_type": "display_data"
        }
      ],
      "source": [
        "# custom visualization function for numpy arrays \n",
        "\n",
        "import matplotlib.pyplot as plt\n",
        "\n",
        "def visualize_numpy(board):\n",
        "    plt.axes()\n",
        "    rectangle = plt.Rectangle((-0.5, len(board) * -1 + 0.5), len(board[0]), len(board), fc='blue')\n",
        "    circles = []\n",
        "    for i in range(board.shape[0]):  # using shape to iterate over numpy array\n",
        "        for j in range(board.shape[1]):\n",
        "            val = board[i, j]  # accessing the element directly as a scalar\n",
        "            color = 'white' if val == 0 else 'red' if val == 1 else 'yellow' if val == -1 else 'black'  # Added black for unexpected values\n",
        "            circles.append(plt.Circle((j, i * -1), 0.4, fc=color))\n",
        "\n",
        "    plt.gca().add_patch(rectangle)\n",
        "    for circle in circles:\n",
        "        plt.gca().add_patch(circle)\n",
        "\n",
        "    plt.axis('scaled')\n",
        "    plt.show()\n",
        "\n",
        "# example usage with a numpy array\n",
        "board = np.array([\n",
        "    [0, 0, 0, 0, 0, 0, 0],\n",
        "    [0, 0, 0, 0, 0, 0, 0],\n",
        "    [0, 0, 0, 0, 0, 0, 0],\n",
        "    [0, 0, 0, 1, 0, 0, 0],\n",
        "    [0, 0, 0, 1, 0, 0, 0],\n",
        "    [0, -1, -1, 1, -1, 0, 0]\n",
        "])\n",
        "visualize(board)"
      ]
    },
    {
      "cell_type": "markdown",
      "metadata": {
        "id": "w2jdemzmTUd2",
        "tags": []
      },
      "source": [
        "Implement helper functions for:\n",
        "\n",
        "* A check for available actions in each state `actions(s)`.\n",
        "* The transition model `result(s, a)`.\n",
        "* Check for terminal states `terminal(s)`.\n",
        "* The utility function `utility(s)`.\n",
        "\n",
        "Make sure that all these functions work with boards of different sizes (number of columns and rows)."
      ]
    },
    {
      "cell_type": "code",
      "execution_count": 2080,
      "metadata": {
        "id": "d4uVwXhSTUd2"
      },
      "outputs": [],
      "source": [
        "# 4x4 board test \n",
        "# empty board \n",
        "board = [[0, 0, 0, 0], \n",
        "         [0, 0, 0, 0], \n",
        "         [0, 0, 0, 0], \n",
        "         [0, 0, 0, 0]]"
      ]
    },
    {
      "cell_type": "code",
      "execution_count": 2081,
      "metadata": {},
      "outputs": [
        {
          "data": {
            "image/png": "[encoded data removed]",
            "text/plain": [
              "<Figure size 640x480 with 1 Axes>"
            ]
          },
          "metadata": {},
          "output_type": "display_data"
        }
      ],
      "source": [
        "# visualize empty board \n",
        "visualize(board)"
      ]
    },
    {
      "cell_type": "code",
      "execution_count": 2082,
      "metadata": {},
      "outputs": [],
      "source": [
        "# filled 4x4 board \n",
        "filled_4 = [[0, 1, 0, -1], \n",
        "         [-1, 1, 0, 0], \n",
        "         [-1, 1, 0, 0], \n",
        "         [-1, 1, 0, 0]]"
      ]
    },
    {
      "cell_type": "code",
      "execution_count": 2083,
      "metadata": {},
      "outputs": [
        {
          "data": {
            "image/png": "[encoded data removed]",
            "text/plain": [
              "<Figure size 640x480 with 1 Axes>"
            ]
          },
          "metadata": {},
          "output_type": "display_data"
        }
      ],
      "source": [
        "# visualize filled 4x4 \n",
        "visualize(filled_4)"
      ]
    },
    {
      "cell_type": "markdown",
      "metadata": {
        "id": "qZEeG452TUd3"
      },
      "source": [
        "Implement an agent that plays randomly. Make sure the agent function receives as the percept the board and returns a valid action. Use an agent function definition with the following signature (arguments):\n",
        "\n",
        "`def random_player(board, player = 1): ...`\n",
        "\n",
        "The argument `player` is used for agents that do not store what color they are playing. The value passed on by the environment should be 1 ot -1 for player red and yellow, respectively.  See [Experiments section for tic-tac-toe](https://nbviewer.org/github/mhahsler/CS7320-AI/blob/master/Games/tictactoe_and_or_tree_search.ipynb#Experiments) for an example."
      ]
    },
    {
      "cell_type": "code",
      "execution_count": 2084,
      "metadata": {},
      "outputs": [],
      "source": [
        "# for board array manipulation \n",
        "import numpy as np \n",
        "\n",
        "# import sys for sys.exit \n",
        "import sys"
      ]
    },
    {
      "cell_type": "code",
      "execution_count": 2085,
      "metadata": {},
      "outputs": [],
      "source": [
        "# function to check for win conditions - 4 in row, 4 in column, 4 in diagonal \n",
        "\n",
        "# function to check for columns: \n",
        "def col_checker(board): \n",
        "    # initialize state to 0 because the game by default is not won \n",
        "    state = 0 \n",
        "    # the way the player won made global \n",
        "    move = \"\"\n",
        "    # get the length of the board\n",
        "    # for 4x4 should be 4 becauase len takes the vertical length \n",
        "    n = len(board)\n",
        "    # empty list for holding found column   \n",
        "    column = [] \n",
        "    # generate comparison array of 1's \n",
        "    # dynamic array allocation with n \n",
        "    # win state changes based on player \n",
        "    # n is the amount of columns, filling each column with only a single 1 to make a 1 row \n",
        "    # np.ones makes a matrix by default so index at 0 to just get one array for our comparison  \n",
        "    win_state1 = np.ones((1, n), dtype = int) \n",
        "    # negative win state\n",
        "    # np.full makes a matrix by default so we must index at 0 to just get one array for our comparison \n",
        "    win_state2 = np.full((1, n), -1) \n",
        "    # check every row of the board \n",
        "    # testing slicing at 3 \n",
        "    column += [board[:, 3]]\n",
        "    # use list comprehension to flatten into a list \n",
        "    flat_list = [item for sublist in column for item in sublist]\n",
        "    # convert flat_list from a list to a numpy array for comparison against win_state1 and win_state2 \n",
        "    flat_array = np.array(flat_list) \n",
        "    print(\"flat list: \", flat_array)\n",
        "    print(\"win state1: \", win_state1)\n",
        "\n",
        "    # use np.array_equal to compare arrays\n",
        "    if(np.array_equal(flat_array, win_state1[0]) or np.array_equal(flat_array, win_state2[0])): \n",
        "            # print(\"entered if!\") \n",
        "            state = 1  \n",
        "            # the way the player won \n",
        "            move = \"four down\"\n",
        "            \n",
        "    return state, move  "
      ]
    },
    {
      "cell_type": "code",
      "execution_count": 2086,
      "metadata": {},
      "outputs": [],
      "source": [
        "# function to check for rows: \n",
        "def row_checker(board):\n",
        "\n",
        "    # real logic \n",
        "    # initialize state to 0 because the game by default is not won \n",
        "    state = 0 \n",
        "    # get the length of the board\n",
        "    # for 4x4 should be 4 becauase len takes the vertical length \n",
        "    n = len(board)\n",
        "    # the way the player won made global \n",
        "    move = \"\"\n",
        "    \n",
        "    # get the shape of board \n",
        "    # r is the length of the rows on the board \n",
        "    r = board.shape[1]\n",
        "    # print('r:', r) \n",
        "    # generate comparison array of 1's \n",
        "    # r is for dynamic array of 1 allocation based on board size \n",
        "    # r is the amount of columns, filling them with 1's\n",
        "    # np.ones defaults to making a matrix, so to get a single array we will have to index 0 \n",
        "    win_state1 = np.ones((1, r), dtype = int)\n",
        "    # negative win state \n",
        "    # np.full for general fill \n",
        "    # np.full defaults to making a matrix, so to get a single array we will have to index 0 \n",
        "    win_state2 = np.full((1, r), -1) \n",
        "    # print(\"win_state:\", win_state) \n",
        "    # check every row of the board \n",
        "    # 0-3 range for row \n",
        "    for row in range(n): \n",
        "        # print(\"this is the row being compared: \\n\", board[row])\n",
        "        # print(\"win state:\\n \", win_state1[0])\n",
        "        # if the game is won, set state to 1 \n",
        "        # compare using np.array_equal to compare each element of the arrays to each other \n",
        "        # if they are equal enter the if statement \n",
        "        # this may not be okay to compare arrays directly. \n",
        "        # if state is not one \n",
        "        if(np.array_equal(board[row], win_state1[0]) or np.array_equal(board[row], win_state2[0]) and state != 1):\n",
        "            # print(\"state updated!\") \n",
        "            state = 1 \n",
        "            # the way the player won \n",
        "            move = \"four across\"\n",
        "            # print(\"State: \", state) \n",
        "\n",
        "    return state, move \n"
      ]
    },
    {
      "cell_type": "code",
      "execution_count": 2087,
      "metadata": {},
      "outputs": [],
      "source": [
        "def diagonal_check(board, player):\n",
        "    # print(\"the board for this comparison is: \\n\", board) \n",
        "    # move for user understanding \n",
        "    move = \"diagonal\"\n",
        "    # extract the diagonal using np built in diagonal function \n",
        "    main_diagonal = np.diagonal(board)\n",
        "    \n",
        "    # get the antidiagonal \n",
        "    # flips the array horizontally with a left right flip \n",
        "    anti_diagonal = np.diagonal(np.fliplr(board))\n",
        "    \n",
        "    # check if the main diagonal is all positive ones \n",
        "    if np.all(main_diagonal == 1): \n",
        "        # print(\"the main diagonal contains ones!\")\n",
        "        state = 1 \n",
        "        return state, move\n",
        "    # main diagonals that contain only -1's  \n",
        "    elif np.all(main_diagonal == -1): \n",
        "        state = 1 \n",
        "        return state, move \n",
        "    # check if the anti_diagonal is all positive ones \n",
        "    # np.all compares to a certain condition of 1 or -1 \n",
        "    elif np.all(anti_diagonal == 1): \n",
        "        # print(\"the anti_diagonal contains ones!\")\n",
        "        state = 1 \n",
        "        return state, move \n",
        "    # anti-diagonals that contain only -1 \n",
        "    elif np.all(anti_diagonal == -1): \n",
        "        state = 1 \n",
        "        return state, move \n",
        "    # no diagonals found \n",
        "    else: \n",
        "        # print(\"no diagonals found\")\n",
        "        state = 0 \n",
        "        return state, move "
      ]
    },
    {
      "cell_type": "code",
      "execution_count": 2088,
      "metadata": {},
      "outputs": [],
      "source": [
        "# draw check \n",
        "def draw_check(board, player): \n",
        "    move = \"draw\"\n",
        "    state = 0 \n",
        "    \n",
        "    # check if np array is completely full, if so set terminal state to 1\n",
        "    # np.all takes the numpy array & checks that every element in it does not equal 0 \n",
        "    # since this is our last board state check out of all four win conditions, then we just have to make sure the board is full of non-zero elements \n",
        "    if(np.all(board != 0)): \n",
        "       state = 1 \n",
        "    \n",
        "    # return the state and the move \n",
        "    return state, move "
      ]
    },
    {
      "cell_type": "code",
      "execution_count": 2089,
      "metadata": {},
      "outputs": [],
      "source": [
        "# state_check function for main state check flow \n",
        "\n",
        "def state_check(board, player): \n",
        "    # starting values for terminal condition \n",
        "    # start as 0 because no one has won the game yet \n",
        "    # 1 when game won: either 4 in a row, 4 in a column, or 4 diagonally  \n",
        "    terminal_state = 0 \n",
        "    # the state the players win by \n",
        "    state = \" \"\n",
        "    # print(\"State:\" , state) \n",
        "    # check if the game is won \n",
        "    # analyze all rows for four 1 or -1 \n",
        "    # analyze all columns for four 1 or -1 \n",
        "    # how do we do diagonals? start on a row and move in until you find 1 or -1\n",
        "    # finding 1 or -1 determines which should be checked, then go to the next row \n",
        "    # on the next row, go one further than you went on the first row.... repeat until 4 hit\n",
        "    # check rows - works  \n",
        "    terminal_state, state = row_checker(board) \n",
        "    \n",
        "    # if win condition met \n",
        "    if(terminal_state == 1): \n",
        "        print(\"player: \", player, \" won via \", state, \"! Ending game.\")\n",
        "        return terminal_state\n",
        "    \n",
        "    # check columns \n",
        "    terminal_state, state = col_checker(board)\n",
        "    \n",
        "    # if win condition met \n",
        "    if(terminal_state == 1): \n",
        "        print(\"player: \", player, \" won via \", state, \"! Ending game.\")\n",
        "        return terminal_state\n",
        "    \n",
        "    # check diagonal \n",
        "    # TODO - fix the diagonal check. Evaluates to true after one play.... wrong! \n",
        "    terminal_state, state = diagonal_check(board, player) \n",
        "    \n",
        "    # if win condition met \n",
        "    if(terminal_state == 1): \n",
        "        print(\"player: \", player, \" won via \", state, \"! Ending game.\")\n",
        "        return terminal_state\n",
        "    \n",
        "    # draw state \n",
        "    terminal_state, state = draw_check(board, player)\n",
        "    # if win condition met \n",
        "    if(terminal_state == 1): \n",
        "        print(\"player: \", player, \" won via \", state, \"! Ending game.\")\n",
        "        return terminal_state\n"
      ]
    },
    {
      "cell_type": "code",
      "execution_count": 2090,
      "metadata": {},
      "outputs": [],
      "source": [
        "# np test board \n",
        "np_b = np.zeros((4, 4), dtype = int)  "
      ]
    },
    {
      "cell_type": "code",
      "execution_count": 2091,
      "metadata": {},
      "outputs": [],
      "source": [
        "# # test state_check \n",
        "# player = 1\n",
        "\n",
        "# # diagonal check -- diagonal check is true whenever just one piece is placed? \n",
        "# np_d = np_b.copy()\n",
        "\n",
        "# # fill diagonals with 1's with np.filldiagonal() \n",
        "# # np.fill_diagonal(np_d, 1)\n",
        "# np_d[0, 3] = -1\n",
        "# np_d[1, 2] = -1\n",
        "# np_d[2, 1] = -1\n",
        "# np_d[3, 0] = -1\n",
        "\n",
        "# print(np_d)\n",
        "\n",
        "# state_check(np_d, player)\n"
      ]
    },
    {
      "cell_type": "code",
      "execution_count": 2092,
      "metadata": {},
      "outputs": [],
      "source": [
        "# function for placing a piece \n",
        "def place_piece(board, player): \n",
        "    # bare bones placement code \n",
        "    length = len(board)\n",
        "\n",
        "    # define column to search through here \n",
        "    # col can range from 0 - 3 \n",
        "    col = np.random.randint(0, length)\n",
        "\n",
        "    # set to 3 to start from bottom & subtract to go up a column \n",
        "    row = 3\n",
        "\n",
        "    # add one to column_selected to have the first column identify as 1, second as 2, 3rd as 3 etc. \n",
        "    # print(\"initiaitng count for the entire \", column_selected + 1, \" column\")\n",
        "    for r in range(length): \n",
        "        # print(\"row is: \", row)\n",
        "        # test with random column instead of fixing at 1 \n",
        "        # col = 1 \n",
        "        # count conditional incremented here after checking if there is a 1 or -1 already placed & finding an empty spot \n",
        "        if board[row][col] == 1 or board[row][col] == -1: \n",
        "            # print(\"a 1 has been found in col \", col + 1)\n",
        "            # one_count += 1 \n",
        "            # decrement row to go up the row to find an empty spot \n",
        "            row -= 1 \n",
        "        # else, found a zero\n",
        "        # if you have found a zero then just place a 1 or -1 \n",
        "        else: \n",
        "            # if(player == 1): \n",
        "            #     # updating board with 1 \n",
        "            #     board[row][col] = 1 \n",
        "            # # yellow \n",
        "            # else: \n",
        "            #     board[row][col] = -1\n",
        "            # player will either be 1 or -1 depending on who is playing \n",
        "            board[row][col] = player \n",
        "            # as soon as place, then exit \n",
        "            break\n",
        "    # returns modified board \n",
        "    return board"
      ]
    },
    {
      "cell_type": "code",
      "execution_count": 2093,
      "metadata": {
        "id": "ustbynVvTUd3"
      },
      "outputs": [],
      "source": [
        "# in a traditional game of connect 4, red goes first \n",
        "# player has default value 1, signifying red \n",
        "# yellow is -1 value for player\n",
        "# player set to 1 by default so that red can go first \n",
        "# pass a running row variable to simulate gravity \n",
        "def random_player(board, player = 1): \n",
        "    # print(\"randomly playing!\")\n",
        "    \n",
        "    # make a copy of board \n",
        "    new_board = board.copy() \n",
        "\n",
        "    # code \n",
        "    if player == 1: \n",
        "        # print(\"Red's turn\") \n",
        "        updated_board = place_piece(board, player)\n",
        "        # new_board[row][col] = 1      \n",
        "        new_board = updated_board\n",
        "    else: \n",
        "        # print(\"Yellow's turn\")\n",
        "        updated_board = place_piece(board, player)\n",
        "        new_board = updated_board\n",
        "    # return the randomly updated board & the player \n",
        "    return new_board, player "
      ]
    },
    {
      "cell_type": "code",
      "execution_count": 2094,
      "metadata": {},
      "outputs": [],
      "source": [
        "# make the 4x4 board of zeros with numpy array -- visualization function had to be customized to display numpy arrays but easier \n",
        "\n",
        "# 4 rows & 4 columns \n",
        "# initialized as np array so that the .shape check and other mechanics will work in the state_check() function \n",
        "board = np.zeros((4, 4), dtype = int)  \n",
        "\n",
        "# visualize_numpy(board)\n"
      ]
    },
    {
      "cell_type": "code",
      "execution_count": 2095,
      "metadata": {},
      "outputs": [
        {
          "name": "stdout",
          "output_type": "stream",
          "text": [
            "flat list:  [0 0 0 1]\n",
            "win state1:  [[1 1 1 1]]\n",
            "flat list:  [0 0 0 1]\n",
            "win state1:  [[1 1 1 1]]\n",
            "flat list:  [0 0 1 1]\n",
            "win state1:  [[1 1 1 1]]\n",
            "flat list:  [0 0 1 1]\n",
            "win state1:  [[1 1 1 1]]\n",
            "flat list:  [0 1 1 1]\n",
            "win state1:  [[1 1 1 1]]\n",
            "flat list:  [-1  1  1  1]\n",
            "win state1:  [[1 1 1 1]]\n",
            "flat list:  [-1  1  1  1]\n",
            "win state1:  [[1 1 1 1]]\n",
            "flat list:  [-1  1  1  1]\n",
            "win state1:  [[1 1 1 1]]\n",
            "flat list:  [-1  1  1  1]\n",
            "win state1:  [[1 1 1 1]]\n",
            "flat list:  [-1  1  1  1]\n",
            "win state1:  [[1 1 1 1]]\n",
            "flat list:  [-1  1  1  1]\n",
            "win state1:  [[1 1 1 1]]\n",
            "flat list:  [-1  1  1  1]\n",
            "win state1:  [[1 1 1 1]]\n",
            "flat list:  [-1  1  1  1]\n",
            "win state1:  [[1 1 1 1]]\n",
            "flat list:  [-1  1  1  1]\n",
            "win state1:  [[1 1 1 1]]\n",
            "flat list:  [-1  1  1  1]\n",
            "win state1:  [[1 1 1 1]]\n",
            "flat list:  [-1  1  1  1]\n",
            "win state1:  [[1 1 1 1]]\n",
            "flat list:  [-1  1  1  1]\n",
            "win state1:  [[1 1 1 1]]\n",
            "flat list:  [-1  1  1  1]\n",
            "win state1:  [[1 1 1 1]]\n",
            "flat list:  [-1  1  1  1]\n",
            "win state1:  [[1 1 1 1]]\n",
            "flat list:  [-1  1  1  1]\n",
            "win state1:  [[1 1 1 1]]\n",
            "flat list:  [-1  1  1  1]\n",
            "win state1:  [[1 1 1 1]]\n",
            "flat list:  [-1  1  1  1]\n",
            "win state1:  [[1 1 1 1]]\n",
            "player:  -1  won via  draw ! Ending game.\n"
          ]
        }
      ],
      "source": [
        "# basic game flow \n",
        "\n",
        "# win condition for exiting loop \n",
        "terminal_state = 0 \n",
        "\n",
        "# while loop - game logic \n",
        "while True:\n",
        "    # red goes first \n",
        "    # player is red by default in random_player, so do not pass anything in for player \n",
        "    board, player = random_player(board)\n",
        "    \n",
        "    # print(board)\n",
        "    \n",
        "    # check state - state_check will end the game if a disc is in four adjacent spots \n",
        "    # pass in the player for this check to know if you need to check for 1 or -1 \n",
        "    terminal_state = state_check(board, player)\n",
        "    \n",
        "    # break out if win_state met \n",
        "    if(terminal_state == 1): \n",
        "        break; \n",
        "\n",
        "    # yellow goes second \n",
        "    yellow = -1 \n",
        "    board, player = random_player(board, yellow)\n",
        "    \n",
        "    # print(board)\n",
        "\n",
        "    # check state - state_check will end the game if a disc is in four adjacent spots \n",
        "    # pass player for this check like above \n",
        "    terminal_state = state_check(board, player) \n",
        "    \n",
        "    # break out if win_state met  \n",
        "    if(terminal_state == 1): \n",
        "        break; \n",
        "    \n",
        "    # increment count \n",
        "    # count+=1\n",
        "    \n",
        "    \n",
        "# print(\"new board\\n\", board)"
      ]
    },
    {
      "cell_type": "code",
      "execution_count": 2096,
      "metadata": {},
      "outputs": [],
      "source": [
        "# print(\"new board end state: \\n\", board)\n"
      ]
    },
    {
      "cell_type": "code",
      "execution_count": 2097,
      "metadata": {},
      "outputs": [
        {
          "data": {
            "image/png": "[encoded data removed]",
            "text/plain": [
              "<Figure size 640x480 with 1 Axes>"
            ]
          },
          "metadata": {},
          "output_type": "display_data"
        }
      ],
      "source": [
        "# TODO - the checks do not work and we are just looping through until a certain count.... should run until win state (1 of the 3)\n",
        "# TODO - fix diagonal behavior to work correctly, right now it hits the win condition without a full diagonal being met. It could be counting non diagonal plays? \n",
        "# TODO - fix row and column behavior to only hit a win condition when the entire column is filled with either -1 (yellow) or 1 (red), not both \n",
        "visualize_numpy(board)"
      ]
    },
    {
      "cell_type": "markdown",
      "metadata": {
        "id": "8BNbHhj-TUd3"
      },
      "source": [
        "Let two random agents play against each other 1000 times. Look at the [Experiments section for tic-tac-toe](https://nbviewer.org/github/mhahsler/CS7320-AI/blob/master/Games/tictactoe_and_or_tree_search.ipynb#Experiments) to see how the environment uses the agent functions to play against each other.\n",
        "\n",
        "How often does each player win? Is the result expected?"
      ]
    },
    {
      "cell_type": "code",
      "execution_count": 2098,
      "metadata": {
        "id": "RLo4DNe0TUd3",
        "tags": []
      },
      "outputs": [],
      "source": [
        "# Your code/ answer goes here."
      ]
    },
    {
      "cell_type": "markdown",
      "metadata": {
        "id": "wlxXLmRDTUd3"
      },
      "source": [
        "## Task 3: Minimax Search with Alpha-Beta Pruning\n",
        "\n",
        "### Implement the Search [20 points]\n",
        "\n",
        "Implement minimax search starting from a given board for specifying the player.\n",
        "You can use code from the [tic-tac-toe example](https://nbviewer.org/github/mhahsler/CS7320-AI/blob/master/Games/tictactoe_alpha_beta_tree_search.ipynb).\n",
        "\n",
        "__Important Notes:__\n",
        "* Make sure that all your agent functions have a signature consistent with the random agent above and that it [uses a class to store state information.](https://nbviewer.org/github/mhahsler/CS7320-AI/blob/master/HOWTOs/store_agent_state_information.ipynb)\n",
        "This is essential to be able play against agents from other students later.\n",
        "* The search space for a $6 \\times 7$ board is large. You can experiment with smaller boards (the smallest is $4 \\times 4$) and/or changing the winning rule to connect 3 instead of 4."
      ]
    },
    {
      "cell_type": "code",
      "execution_count": 2099,
      "metadata": {
        "id": "aPc9UOdhTUd3"
      },
      "outputs": [],
      "source": [
        "# Your code/ answer goes here."
      ]
    },
    {
      "cell_type": "markdown",
      "metadata": {
        "id": "ldUc1ymlTUd3"
      },
      "source": [
        "Experiment with some manually created boards (at least 5) to check if the agent spots winning opportunities."
      ]
    },
    {
      "cell_type": "code",
      "execution_count": 2100,
      "metadata": {
        "id": "QPhzl34KTUd3"
      },
      "outputs": [],
      "source": [
        "# Your code/ answer goes here."
      ]
    },
    {
      "cell_type": "markdown",
      "metadata": {
        "id": "m5CoPCYtTUd3"
      },
      "source": [
        "How long does it take to make a move? Start with a smaller board with 4 columns and make the board larger by adding columns."
      ]
    },
    {
      "cell_type": "code",
      "execution_count": 2101,
      "metadata": {
        "id": "yMRQGsy0TUd3"
      },
      "outputs": [],
      "source": [
        "# Your code/ answer goes here."
      ]
    },
    {
      "cell_type": "markdown",
      "metadata": {
        "id": "BelSSM9kTUd4"
      },
      "source": [
        "### Move ordering [5 points]\n",
        "\n",
        "Starting the search with better moves will increase the efficiency of alpha-beta pruning. Describe and implement a simple move ordering strategy. Make a table that shows how the ordering strategies influence the time it takes to make a move?"
      ]
    },
    {
      "cell_type": "code",
      "execution_count": 2102,
      "metadata": {
        "id": "tPjVW6UETUd4"
      },
      "outputs": [],
      "source": [
        "# Your code/ answer goes here."
      ]
    },
    {
      "cell_type": "markdown",
      "metadata": {
        "id": "5JDfYjzwTUd4"
      },
      "source": [
        "### The first few moves [5 points]\n",
        "\n",
        "Start with an empty board. This is the worst case scenario for minimax search since it needs solve all possible games that can be played (minus some pruning) before making the decision. What can you do?"
      ]
    },
    {
      "cell_type": "code",
      "execution_count": 2103,
      "metadata": {
        "id": "QIBTGyqGTUd4"
      },
      "outputs": [],
      "source": [
        "# Your code/ answer goes here."
      ]
    },
    {
      "cell_type": "markdown",
      "metadata": {
        "id": "0FU48BvsTUd4"
      },
      "source": [
        "### Playtime [5 points]\n",
        "\n",
        "Let the Minimax Search agent play a random agent on a small board. Analyze wins, losses and draws."
      ]
    },
    {
      "cell_type": "code",
      "execution_count": 2104,
      "metadata": {
        "id": "EZELygptTUd4"
      },
      "outputs": [],
      "source": [
        "# Your code/ answer goes here."
      ]
    },
    {
      "cell_type": "markdown",
      "metadata": {
        "id": "s6LRiAm8TUd4"
      },
      "source": [
        "## Task 4: Heuristic Alpha-Beta Tree Search\n",
        "\n",
        "### Heuristic evaluation function [15 points]\n",
        "\n",
        "Define and implement a heuristic evaluation function."
      ]
    },
    {
      "cell_type": "code",
      "execution_count": 2105,
      "metadata": {
        "id": "8-4yKo9fTUd4"
      },
      "outputs": [],
      "source": [
        "# Your code/ answer goes here."
      ]
    },
    {
      "cell_type": "markdown",
      "metadata": {
        "id": "JH1E12-yTUd4"
      },
      "source": [
        "### Cutting Off Search [10 points]\n",
        "\n",
        "Modify your minimax search with alpha-beta pruning to cut off search at a specified depth and use the heuristic evaluation function. Experiment with different cutoff values."
      ]
    },
    {
      "cell_type": "code",
      "execution_count": 2106,
      "metadata": {
        "id": "8PoMQZ-1TUd4"
      },
      "outputs": [],
      "source": [
        "# Your code/ answer goes here."
      ]
    },
    {
      "cell_type": "markdown",
      "metadata": {
        "id": "MvH6eTg6TUd4"
      },
      "source": [
        "Experiment with the same manually created boards as above to check if the agent spots wining opportunities."
      ]
    },
    {
      "cell_type": "code",
      "execution_count": 2107,
      "metadata": {
        "id": "z0FijyqXTUd4"
      },
      "outputs": [],
      "source": [
        "# Your code/ answer goes here."
      ]
    },
    {
      "cell_type": "markdown",
      "metadata": {
        "id": "1U4tLpJ1TUd4"
      },
      "source": [
        "How long does it take to make a move? Start with a smaller board with 4 columns and make the board larger by adding columns."
      ]
    },
    {
      "cell_type": "code",
      "execution_count": 2108,
      "metadata": {
        "id": "VFTQCCjBTUd4"
      },
      "outputs": [],
      "source": [
        "# Your code/ answer goes here."
      ]
    },
    {
      "cell_type": "markdown",
      "metadata": {
        "id": "U2eN71i0TUd5"
      },
      "source": [
        "### Playtime [5 points]\n",
        "\n",
        "Let two heuristic search agents (different cutoff depth, different heuristic evaluation function) compete against each other on a reasonably sized board. Since there is no randomness, you only need to let them play once."
      ]
    },
    {
      "cell_type": "code",
      "execution_count": 2109,
      "metadata": {
        "id": "FnH_F1UvTUd5"
      },
      "outputs": [],
      "source": [
        "# Your code/ answer goes here."
      ]
    },
    {
      "cell_type": "markdown",
      "metadata": {
        "id": "Bori54SFTUd8"
      },
      "source": [
        "## Challenge task [up to +10 bonus point will be awarded separately]\n",
        "\n",
        "Find another student and let your best agent play against the other student's best player. We will set up a class tournament on Canvas. This tournament will continue after the submission deadline."
      ]
    },
    {
      "cell_type": "markdown",
      "metadata": {
        "id": "HIWzuYdgTUd8"
      },
      "source": [
        "## Graduate student advanced task: Pure Monte Carlo Search and Best First Move [10 point]\n",
        "\n",
        "__Undergraduate students:__ This is a bonus task you can attempt if you like [+5 bonus point].\n",
        "\n",
        "### Pure Monte Carlo Search\n",
        "\n",
        "Implement Pure Monte Carlo Search and investigate how this search performs on the test boards that you have used above."
      ]
    },
    {
      "cell_type": "code",
      "execution_count": 2110,
      "metadata": {
        "id": "9H0Vs29QTUd8"
      },
      "outputs": [],
      "source": [
        "# Your code/ answer goes here."
      ]
    },
    {
      "cell_type": "markdown",
      "metadata": {
        "id": "ZGZjqf6uTUd8"
      },
      "source": [
        "### Best First Move\n",
        "\n",
        "Use Oure Monte Carlo Search to determine what the best first move is? Describe under what assumptions this is the \"best\" first move.  "
      ]
    },
    {
      "cell_type": "code",
      "execution_count": 2111,
      "metadata": {
        "id": "StD6wLNpTUd8"
      },
      "outputs": [],
      "source": [
        "# Your code/ answer goes here."
      ]
    }
  ],
  "metadata": {
    "colab": {
      "provenance": []
    },
    "kernelspec": {
      "display_name": "Python 3 (ipykernel)",
      "language": "python",
      "name": "python3"
    },
    "language_info": {
      "codemirror_mode": {
        "name": "ipython",
        "version": 3
      },
      "file_extension": ".py",
      "mimetype": "text/x-python",
      "name": "python",
      "nbconvert_exporter": "python",
      "pygments_lexer": "ipython3",
      "version": "3.11.8"
    }
  },
  "nbformat": 4,
  "nbformat_minor": 0
}
